{
  "nbformat": 4,
  "nbformat_minor": 0,
  "metadata": {
    "colab": {
      "provenance": []
    },
    "kernelspec": {
      "name": "python3",
      "display_name": "Python 3"
    },
    "language_info": {
      "name": "python"
    }
  },
  "cells": [
    {
      "cell_type": "code",
      "source": [
        "!pip install scikit-fuzzy"
      ],
      "metadata": {
        "id": "vbUM_nt-4F0E",
        "colab": {
          "base_uri": "https://localhost:8080/"
        },
        "outputId": "93a0fe12-0b17-4255-e3cb-91ad2d507eab"
      },
      "execution_count": null,
      "outputs": [
        {
          "output_type": "stream",
          "name": "stdout",
          "text": [
            "Requirement already satisfied: scikit-fuzzy in /usr/local/lib/python3.11/dist-packages (0.5.0)\n"
          ]
        }
      ]
    },
    {
      "cell_type": "code",
      "execution_count": 193,
      "metadata": {
        "id": "j0wu8PEfFdB4"
      },
      "outputs": [],
      "source": [
        "import pandas as pd\n",
        "import numpy as np\n",
        "from sklearn.preprocessing import StandardScaler\n",
        "from sklearn.model_selection import train_test_split\n",
        "from sklearn import svm\n",
        "from sklearn.model_selection import GridSearchCV, RandomizedSearchCV\n",
        "from sklearn.metrics import accuracy_score, classification_report, confusion_matrix\n",
        "from imblearn.over_sampling import SMOTE\n",
        "import pickle\n",
        "from xgboost import XGBClassifier\n",
        "import matplotlib.pyplot as plt\n",
        "from sklearn.ensemble import VotingClassifier\n",
        "import skfuzzy as fuzz\n",
        "import skfuzzy.control as ctrl"
      ]
    },
    {
      "cell_type": "code",
      "source": [
        "# !pip install streamlit"
      ],
      "metadata": {
        "id": "ncMZILmwqEzp"
      },
      "execution_count": 194,
      "outputs": []
    },
    {
      "cell_type": "code",
      "source": [
        "import numpy as np\n",
        "import sklearn\n",
        "import imblearn\n",
        "import pandas as pd\n",
        "import xgboost\n",
        "import matplotlib\n",
        "import skfuzzy\n",
        "\n",
        "print(\"Pandas:\", pd.__version__)\n",
        "print(\"NumPy:\", np.__version__)\n",
        "print(\"Scikit-learn:\", sklearn.__version__)\n",
        "print(\"imblearn:\", imblearn.__version__)\n",
        "print(\"xgboost:\", xgboost.__version__)\n",
        "print(\"matplotlib:\", matplotlib.__version__)\n",
        "print(\"scikit-fuzzy:\", skfuzzy.__version__)"
      ],
      "metadata": {
        "colab": {
          "base_uri": "https://localhost:8080/"
        },
        "id": "H4k--eSyMyPG",
        "outputId": "b5071ab2-1685-4573-96c9-66ccaeff4694"
      },
      "execution_count": 195,
      "outputs": [
        {
          "output_type": "stream",
          "name": "stdout",
          "text": [
            "Pandas: 2.2.2\n",
            "NumPy: 2.0.2\n",
            "Scikit-learn: 1.6.1\n",
            "imblearn: 0.13.0\n",
            "xgboost: 2.1.4\n",
            "matplotlib: 3.10.0\n",
            "scikit-fuzzy: 0.5.0\n"
          ]
        }
      ]
    },
    {
      "cell_type": "code",
      "source": [
        "# Load dataset\n",
        "df = pd.read_csv('/content/diabetes.csv')\n",
        "print(df.head())\n",
        "# Handle categorical features\n",
        "categorical_cols = ['gender', 'hypertension', 'heart_disease', 'smoking_history']\n",
        "df[categorical_cols] = df[categorical_cols].astype(str)\n",
        "df = pd.get_dummies(df, columns=categorical_cols, drop_first=True)"
      ],
      "metadata": {
        "id": "g3MrT3akLUv7",
        "colab": {
          "base_uri": "https://localhost:8080/"
        },
        "outputId": "63231126-6ff2-42bf-d37a-166f787c3e86"
      },
      "execution_count": 196,
      "outputs": [
        {
          "output_type": "stream",
          "name": "stdout",
          "text": [
            "   gender   age  hypertension  heart_disease smoking_history    bmi  \\\n",
            "0  Female  80.0             0              1           never  25.19   \n",
            "1  Female  54.0             0              0         No Info  27.32   \n",
            "2    Male  28.0             0              0           never  27.32   \n",
            "3  Female  36.0             0              0         current  23.45   \n",
            "4    Male  76.0             1              1         current  20.14   \n",
            "\n",
            "   HbA1c_level  blood_glucose_level  diabetes  \n",
            "0          6.6                  140         0  \n",
            "1          6.6                   80         0  \n",
            "2          5.7                  158         0  \n",
            "3          5.0                  155         0  \n",
            "4          4.8                  155         0  \n"
          ]
        }
      ]
    },
    {
      "cell_type": "code",
      "source": [
        "# Features and target\n",
        "x = df.drop(columns=['diabetes'], axis=1)\n",
        "y = df['diabetes']\n",
        "with open('features.pkl','wb') as file:\n",
        "  pickle.dump(x.columns,file)"
      ],
      "metadata": {
        "id": "ae8Dd7GgH1yA"
      },
      "execution_count": 197,
      "outputs": []
    },
    {
      "cell_type": "markdown",
      "source": [
        "#implementing a fuzzy system for handling uncertainty"
      ],
      "metadata": {
        "id": "HeJEd3lW4wsE"
      }
    },
    {
      "cell_type": "code",
      "source": [
        "# Define fuzzy variables\n",
        "hba1c = ctrl.Antecedent(np.arange(3, 15, 0.1), 'HbA1c_level')\n",
        "bmi = ctrl.Antecedent(np.arange(10, 50, 0.1), 'bmi')\n",
        "glucose = ctrl.Antecedent(np.arange(50, 300, 1), 'blood_glucose_level')\n",
        "risk = ctrl.Consequent(np.arange(0, 1.1, 0.1), 'diabetes_risk')\n",
        "hypertension_range = np.arange(0, 1.1, 0.1)\n",
        "hypertension_fuzzy = ctrl.Antecedent(hypertension_range, 'hypertension')\n",
        "smoking_range = np.arange(0, 1.1, 0.1)\n",
        "smoking_fuzzy = ctrl.Antecedent(smoking_range, 'smoking')"
      ],
      "metadata": {
        "id": "flmrqo5H4vB_"
      },
      "execution_count": 198,
      "outputs": []
    },
    {
      "cell_type": "code",
      "source": [
        "#Define fuzzy sets (Low, Medium, High)\n",
        "hba1c.automf(3)\n",
        "bmi.automf(3)\n",
        "glucose.automf(3)\n",
        "risk.automf(3)\n",
        "#Defining fuzzy set for categorical data\n",
        "hypertension_fuzzy['absent'] = fuzz.trimf(hypertension_fuzzy.universe, [0, 0, 0.5])\n",
        "hypertension_fuzzy['present'] = fuzz.trimf(hypertension_fuzzy.universe, [0.5, 1, 1])\n",
        "smoking_fuzzy['never'] = fuzz.trimf(smoking_fuzzy.universe, [0, 0, 0.3])\n",
        "smoking_fuzzy['former'] = fuzz.trimf(smoking_fuzzy.universe, [0.2, 0.5, 0.8])\n",
        "smoking_fuzzy['current'] = fuzz.trimf(smoking_fuzzy.universe, [0.7, 1, 1])"
      ],
      "metadata": {
        "id": "sZ_GgcPj5OxJ"
      },
      "execution_count": 199,
      "outputs": []
    },
    {
      "cell_type": "code",
      "source": [
        "# Example fuzzy rules that incorporate all factors:\n",
        "rule1 = ctrl.Rule(hba1c['good'] & bmi['good'] & hypertension_fuzzy['present'] & smoking_fuzzy['current'], risk['good'])\n",
        "rule2 = ctrl.Rule(hba1c['average'] & glucose['average'] & hypertension_fuzzy['absent'] & smoking_fuzzy['former'], risk['average'])\n",
        "rule3 = ctrl.Rule(hba1c['poor'] & glucose['poor'] & hypertension_fuzzy['absent'] & smoking_fuzzy['never'], risk['poor'])\n",
        "\n",
        "# Create fuzzy control system\n",
        "risk_ctrl = ctrl.ControlSystem([rule1, rule2, rule3])\n",
        "risk_sim = ctrl.ControlSystemSimulation(risk_ctrl)\n",
        "#saving the fuzzy model\n",
        "with open(\"fuzzy.pkl\", \"wb+\") as file:\n",
        "    pickle.dump(risk_ctrl, file)\n"
      ],
      "metadata": {
        "id": "07cUm0rv32wG"
      },
      "execution_count": 201,
      "outputs": []
    },
    {
      "cell_type": "code",
      "source": [
        "print(x.shape,y.shape)"
      ],
      "metadata": {
        "colab": {
          "base_uri": "https://localhost:8080/"
        },
        "id": "O5Yvz6UjuW6L",
        "outputId": "df780e12-9bac-48bc-981c-e95fafc88184"
      },
      "execution_count": 202,
      "outputs": [
        {
          "output_type": "stream",
          "name": "stdout",
          "text": [
            "(100000, 13) (100000,)\n"
          ]
        }
      ]
    },
    {
      "cell_type": "code",
      "source": [
        "#finding missing values\n",
        "df.isnull().sum()"
      ],
      "metadata": {
        "colab": {
          "base_uri": "https://localhost:8080/",
          "height": 523
        },
        "id": "KobAy3rdmVBB",
        "outputId": "3fdd12ef-09d9-424f-f47f-6214a5a43721"
      },
      "execution_count": 203,
      "outputs": [
        {
          "output_type": "execute_result",
          "data": {
            "text/plain": [
              "age                            0\n",
              "bmi                            0\n",
              "HbA1c_level                    0\n",
              "blood_glucose_level            0\n",
              "diabetes                       0\n",
              "gender_Male                    0\n",
              "gender_Other                   0\n",
              "hypertension_1                 0\n",
              "heart_disease_1                0\n",
              "smoking_history_current        0\n",
              "smoking_history_ever           0\n",
              "smoking_history_former         0\n",
              "smoking_history_never          0\n",
              "smoking_history_not current    0\n",
              "dtype: int64"
            ],
            "text/html": [
              "<div>\n",
              "<style scoped>\n",
              "    .dataframe tbody tr th:only-of-type {\n",
              "        vertical-align: middle;\n",
              "    }\n",
              "\n",
              "    .dataframe tbody tr th {\n",
              "        vertical-align: top;\n",
              "    }\n",
              "\n",
              "    .dataframe thead th {\n",
              "        text-align: right;\n",
              "    }\n",
              "</style>\n",
              "<table border=\"1\" class=\"dataframe\">\n",
              "  <thead>\n",
              "    <tr style=\"text-align: right;\">\n",
              "      <th></th>\n",
              "      <th>0</th>\n",
              "    </tr>\n",
              "  </thead>\n",
              "  <tbody>\n",
              "    <tr>\n",
              "      <th>age</th>\n",
              "      <td>0</td>\n",
              "    </tr>\n",
              "    <tr>\n",
              "      <th>bmi</th>\n",
              "      <td>0</td>\n",
              "    </tr>\n",
              "    <tr>\n",
              "      <th>HbA1c_level</th>\n",
              "      <td>0</td>\n",
              "    </tr>\n",
              "    <tr>\n",
              "      <th>blood_glucose_level</th>\n",
              "      <td>0</td>\n",
              "    </tr>\n",
              "    <tr>\n",
              "      <th>diabetes</th>\n",
              "      <td>0</td>\n",
              "    </tr>\n",
              "    <tr>\n",
              "      <th>gender_Male</th>\n",
              "      <td>0</td>\n",
              "    </tr>\n",
              "    <tr>\n",
              "      <th>gender_Other</th>\n",
              "      <td>0</td>\n",
              "    </tr>\n",
              "    <tr>\n",
              "      <th>hypertension_1</th>\n",
              "      <td>0</td>\n",
              "    </tr>\n",
              "    <tr>\n",
              "      <th>heart_disease_1</th>\n",
              "      <td>0</td>\n",
              "    </tr>\n",
              "    <tr>\n",
              "      <th>smoking_history_current</th>\n",
              "      <td>0</td>\n",
              "    </tr>\n",
              "    <tr>\n",
              "      <th>smoking_history_ever</th>\n",
              "      <td>0</td>\n",
              "    </tr>\n",
              "    <tr>\n",
              "      <th>smoking_history_former</th>\n",
              "      <td>0</td>\n",
              "    </tr>\n",
              "    <tr>\n",
              "      <th>smoking_history_never</th>\n",
              "      <td>0</td>\n",
              "    </tr>\n",
              "    <tr>\n",
              "      <th>smoking_history_not current</th>\n",
              "      <td>0</td>\n",
              "    </tr>\n",
              "  </tbody>\n",
              "</table>\n",
              "</div><br><label><b>dtype:</b> int64</label>"
            ]
          },
          "metadata": {},
          "execution_count": 203
        }
      ]
    },
    {
      "cell_type": "code",
      "source": [
        "df.value_counts(['diabetes'])"
      ],
      "metadata": {
        "colab": {
          "base_uri": "https://localhost:8080/",
          "height": 178
        },
        "id": "sQ0nX-TwdAHg",
        "outputId": "bf99d58f-9fe1-4451-d96a-394c73ec6fa7"
      },
      "execution_count": 204,
      "outputs": [
        {
          "output_type": "execute_result",
          "data": {
            "text/plain": [
              "diabetes\n",
              "0           91500\n",
              "1            8500\n",
              "Name: count, dtype: int64"
            ],
            "text/html": [
              "<div>\n",
              "<style scoped>\n",
              "    .dataframe tbody tr th:only-of-type {\n",
              "        vertical-align: middle;\n",
              "    }\n",
              "\n",
              "    .dataframe tbody tr th {\n",
              "        vertical-align: top;\n",
              "    }\n",
              "\n",
              "    .dataframe thead th {\n",
              "        text-align: right;\n",
              "    }\n",
              "</style>\n",
              "<table border=\"1\" class=\"dataframe\">\n",
              "  <thead>\n",
              "    <tr style=\"text-align: right;\">\n",
              "      <th></th>\n",
              "      <th>count</th>\n",
              "    </tr>\n",
              "    <tr>\n",
              "      <th>diabetes</th>\n",
              "      <th></th>\n",
              "    </tr>\n",
              "  </thead>\n",
              "  <tbody>\n",
              "    <tr>\n",
              "      <th>0</th>\n",
              "      <td>91500</td>\n",
              "    </tr>\n",
              "    <tr>\n",
              "      <th>1</th>\n",
              "      <td>8500</td>\n",
              "    </tr>\n",
              "  </tbody>\n",
              "</table>\n",
              "</div><br><label><b>dtype:</b> int64</label>"
            ]
          },
          "metadata": {},
          "execution_count": 204
        }
      ]
    },
    {
      "cell_type": "markdown",
      "source": [
        "#our dataset is highly imbalanced so we correct it first"
      ],
      "metadata": {
        "id": "0XyV0hiGVZLD"
      }
    },
    {
      "cell_type": "code",
      "source": [
        "# Apply SMOTE\n",
        "smote = SMOTE(sampling_strategy=1.0, random_state=42)\n",
        "x_resampled, y_resampled = smote.fit_resample(x, y)"
      ],
      "metadata": {
        "id": "i-K1kXA_mlwi"
      },
      "execution_count": 205,
      "outputs": []
    },
    {
      "cell_type": "code",
      "source": [
        "# Splitting the dataset\n",
        "x_train, x_test, y_train, y_test = train_test_split(x_resampled, y_resampled, test_size=0.2, stratify=y_resampled, random_state=43)"
      ],
      "metadata": {
        "id": "WzojBU4MEyDU"
      },
      "execution_count": 206,
      "outputs": []
    },
    {
      "cell_type": "code",
      "source": [
        "print(\"Class distribution after SMOTE:\\n\", pd.Series(y_resampled).value_counts())\n"
      ],
      "metadata": {
        "colab": {
          "base_uri": "https://localhost:8080/"
        },
        "id": "Obyc9n-w0jlp",
        "outputId": "cedc82a5-ec60-4798-dc18-ce9094c9ec04"
      },
      "execution_count": 207,
      "outputs": [
        {
          "output_type": "stream",
          "name": "stdout",
          "text": [
            "Class distribution after SMOTE:\n",
            " diabetes\n",
            "0    91500\n",
            "1    91500\n",
            "Name: count, dtype: int64\n"
          ]
        }
      ]
    },
    {
      "cell_type": "code",
      "source": [
        "print(x_resampled.shape,y_resampled.shape)"
      ],
      "metadata": {
        "colab": {
          "base_uri": "https://localhost:8080/"
        },
        "id": "k7FBxR_Wusxd",
        "outputId": "bae1faba-ffc9-4ffb-fa2b-5edacadee7aa"
      },
      "execution_count": 208,
      "outputs": [
        {
          "output_type": "stream",
          "name": "stdout",
          "text": [
            "(183000, 13) (183000,)\n"
          ]
        }
      ]
    },
    {
      "cell_type": "code",
      "source": [
        "continuous_cols = ['age', 'bmi', 'HbA1c_level', 'blood_glucose_level']\n",
        "categorical_cols = [col for col in x_resampled.columns if col not in continuous_cols]"
      ],
      "metadata": {
        "id": "AAnUjqwc4Cb9"
      },
      "execution_count": 221,
      "outputs": []
    },
    {
      "cell_type": "markdown",
      "source": [
        "#standardizing and normalizing data"
      ],
      "metadata": {
        "id": "Gp1B5AYVvEfv"
      }
    },
    {
      "cell_type": "code",
      "source": [
        "# #Standardizing only continuous features\n",
        "# scaler = StandardScaler()\n",
        "# x_train_continuous = pd.DataFrame(\n",
        "#     scaler.fit_transform(x_train[continuous_cols]),\n",
        "#     columns=continuous_cols,\n",
        "#     index=x_train.index\n",
        "# )\n",
        "# x_train_scaled = pd.concat([x_train_continuous, x_train[categorical_cols]], axis=1)\n",
        "\n",
        "# x_test_continuous = pd.DataFrame(\n",
        "#     scaler.transform(x_test[continuous_cols]),\n",
        "#     columns=continuous_cols,\n",
        "#     index=x_test.index\n",
        "# )\n",
        "# x_test_scaled = pd.concat([x_test_continuous, x_test[categorical_cols]], axis=1)\n",
        "# # Save the scaler\n",
        "# with open(\"scaler.pkl\", \"wb+\") as file:\n",
        "#     pickle.dump(scaler, file)"
      ],
      "metadata": {
        "id": "Zf6EMQJtvHcV"
      },
      "execution_count": 222,
      "outputs": []
    },
    {
      "cell_type": "markdown",
      "source": [
        "#splitting the dataset in test and train data"
      ],
      "metadata": {
        "id": "a2Q5eAqpEyqc"
      }
    },
    {
      "cell_type": "code",
      "source": [
        "hba1c_min = x_resampled['HbA1c_level'].min()\n",
        "hba1c_max = x_resampled['HbA1c_level'].max()\n",
        "x_train['HbA1c_level'] = (x_train['HbA1c_level'] - hba1c_min) / (hba1c_max - hba1c_min)\n",
        "x_test['HbA1c_level'] = (x_test['HbA1c_level'] - hba1c_min) / (hba1c_max - hba1c_min)\n",
        "with open('hba1c_min_max.pkl','wb+') as file:\n",
        "  pickle.dump((hba1c_min,hba1c_max),file)"
      ],
      "metadata": {
        "id": "6P7eTYXRaIHD"
      },
      "execution_count": 223,
      "outputs": []
    },
    {
      "cell_type": "markdown",
      "source": [
        "#Using gradient boosting\n"
      ],
      "metadata": {
        "id": "aH84ShOjHvmL"
      }
    },
    {
      "cell_type": "code",
      "source": [
        "# Train XGBoost model\n",
        "xgb_classifier = XGBClassifier(n_estimators=600, max_depth=7, learning_rate=0.05,\n",
        "                               subsample=0.8, colsample_bytree=0.7,\n",
        "                               gamma=1.15,random_state=9)\n",
        "xgb_classifier.fit(x_train, y_train)\n"
      ],
      "metadata": {
        "id": "6KbRTnIDHRka",
        "colab": {
          "base_uri": "https://localhost:8080/",
          "height": 253
        },
        "outputId": "4fadaf48-d9c8-4d6b-9474-76ea308ac1a5"
      },
      "execution_count": 225,
      "outputs": [
        {
          "output_type": "execute_result",
          "data": {
            "text/plain": [
              "XGBClassifier(base_score=None, booster=None, callbacks=None,\n",
              "              colsample_bylevel=None, colsample_bynode=None,\n",
              "              colsample_bytree=0.7, device=None, early_stopping_rounds=None,\n",
              "              enable_categorical=False, eval_metric=None, feature_types=None,\n",
              "              gamma=1.15, grow_policy=None, importance_type=None,\n",
              "              interaction_constraints=None, learning_rate=0.05, max_bin=None,\n",
              "              max_cat_threshold=None, max_cat_to_onehot=None,\n",
              "              max_delta_step=None, max_depth=7, max_leaves=None,\n",
              "              min_child_weight=None, missing=nan, monotone_constraints=None,\n",
              "              multi_strategy=None, n_estimators=600, n_jobs=None,\n",
              "              num_parallel_tree=None, random_state=9, ...)"
            ],
            "text/html": [
              "<style>#sk-container-id-10 {\n",
              "  /* Definition of color scheme common for light and dark mode */\n",
              "  --sklearn-color-text: #000;\n",
              "  --sklearn-color-text-muted: #666;\n",
              "  --sklearn-color-line: gray;\n",
              "  /* Definition of color scheme for unfitted estimators */\n",
              "  --sklearn-color-unfitted-level-0: #fff5e6;\n",
              "  --sklearn-color-unfitted-level-1: #f6e4d2;\n",
              "  --sklearn-color-unfitted-level-2: #ffe0b3;\n",
              "  --sklearn-color-unfitted-level-3: chocolate;\n",
              "  /* Definition of color scheme for fitted estimators */\n",
              "  --sklearn-color-fitted-level-0: #f0f8ff;\n",
              "  --sklearn-color-fitted-level-1: #d4ebff;\n",
              "  --sklearn-color-fitted-level-2: #b3dbfd;\n",
              "  --sklearn-color-fitted-level-3: cornflowerblue;\n",
              "\n",
              "  /* Specific color for light theme */\n",
              "  --sklearn-color-text-on-default-background: var(--sg-text-color, var(--theme-code-foreground, var(--jp-content-font-color1, black)));\n",
              "  --sklearn-color-background: var(--sg-background-color, var(--theme-background, var(--jp-layout-color0, white)));\n",
              "  --sklearn-color-border-box: var(--sg-text-color, var(--theme-code-foreground, var(--jp-content-font-color1, black)));\n",
              "  --sklearn-color-icon: #696969;\n",
              "\n",
              "  @media (prefers-color-scheme: dark) {\n",
              "    /* Redefinition of color scheme for dark theme */\n",
              "    --sklearn-color-text-on-default-background: var(--sg-text-color, var(--theme-code-foreground, var(--jp-content-font-color1, white)));\n",
              "    --sklearn-color-background: var(--sg-background-color, var(--theme-background, var(--jp-layout-color0, #111)));\n",
              "    --sklearn-color-border-box: var(--sg-text-color, var(--theme-code-foreground, var(--jp-content-font-color1, white)));\n",
              "    --sklearn-color-icon: #878787;\n",
              "  }\n",
              "}\n",
              "\n",
              "#sk-container-id-10 {\n",
              "  color: var(--sklearn-color-text);\n",
              "}\n",
              "\n",
              "#sk-container-id-10 pre {\n",
              "  padding: 0;\n",
              "}\n",
              "\n",
              "#sk-container-id-10 input.sk-hidden--visually {\n",
              "  border: 0;\n",
              "  clip: rect(1px 1px 1px 1px);\n",
              "  clip: rect(1px, 1px, 1px, 1px);\n",
              "  height: 1px;\n",
              "  margin: -1px;\n",
              "  overflow: hidden;\n",
              "  padding: 0;\n",
              "  position: absolute;\n",
              "  width: 1px;\n",
              "}\n",
              "\n",
              "#sk-container-id-10 div.sk-dashed-wrapped {\n",
              "  border: 1px dashed var(--sklearn-color-line);\n",
              "  margin: 0 0.4em 0.5em 0.4em;\n",
              "  box-sizing: border-box;\n",
              "  padding-bottom: 0.4em;\n",
              "  background-color: var(--sklearn-color-background);\n",
              "}\n",
              "\n",
              "#sk-container-id-10 div.sk-container {\n",
              "  /* jupyter's `normalize.less` sets `[hidden] { display: none; }`\n",
              "     but bootstrap.min.css set `[hidden] { display: none !important; }`\n",
              "     so we also need the `!important` here to be able to override the\n",
              "     default hidden behavior on the sphinx rendered scikit-learn.org.\n",
              "     See: https://github.com/scikit-learn/scikit-learn/issues/21755 */\n",
              "  display: inline-block !important;\n",
              "  position: relative;\n",
              "}\n",
              "\n",
              "#sk-container-id-10 div.sk-text-repr-fallback {\n",
              "  display: none;\n",
              "}\n",
              "\n",
              "div.sk-parallel-item,\n",
              "div.sk-serial,\n",
              "div.sk-item {\n",
              "  /* draw centered vertical line to link estimators */\n",
              "  background-image: linear-gradient(var(--sklearn-color-text-on-default-background), var(--sklearn-color-text-on-default-background));\n",
              "  background-size: 2px 100%;\n",
              "  background-repeat: no-repeat;\n",
              "  background-position: center center;\n",
              "}\n",
              "\n",
              "/* Parallel-specific style estimator block */\n",
              "\n",
              "#sk-container-id-10 div.sk-parallel-item::after {\n",
              "  content: \"\";\n",
              "  width: 100%;\n",
              "  border-bottom: 2px solid var(--sklearn-color-text-on-default-background);\n",
              "  flex-grow: 1;\n",
              "}\n",
              "\n",
              "#sk-container-id-10 div.sk-parallel {\n",
              "  display: flex;\n",
              "  align-items: stretch;\n",
              "  justify-content: center;\n",
              "  background-color: var(--sklearn-color-background);\n",
              "  position: relative;\n",
              "}\n",
              "\n",
              "#sk-container-id-10 div.sk-parallel-item {\n",
              "  display: flex;\n",
              "  flex-direction: column;\n",
              "}\n",
              "\n",
              "#sk-container-id-10 div.sk-parallel-item:first-child::after {\n",
              "  align-self: flex-end;\n",
              "  width: 50%;\n",
              "}\n",
              "\n",
              "#sk-container-id-10 div.sk-parallel-item:last-child::after {\n",
              "  align-self: flex-start;\n",
              "  width: 50%;\n",
              "}\n",
              "\n",
              "#sk-container-id-10 div.sk-parallel-item:only-child::after {\n",
              "  width: 0;\n",
              "}\n",
              "\n",
              "/* Serial-specific style estimator block */\n",
              "\n",
              "#sk-container-id-10 div.sk-serial {\n",
              "  display: flex;\n",
              "  flex-direction: column;\n",
              "  align-items: center;\n",
              "  background-color: var(--sklearn-color-background);\n",
              "  padding-right: 1em;\n",
              "  padding-left: 1em;\n",
              "}\n",
              "\n",
              "\n",
              "/* Toggleable style: style used for estimator/Pipeline/ColumnTransformer box that is\n",
              "clickable and can be expanded/collapsed.\n",
              "- Pipeline and ColumnTransformer use this feature and define the default style\n",
              "- Estimators will overwrite some part of the style using the `sk-estimator` class\n",
              "*/\n",
              "\n",
              "/* Pipeline and ColumnTransformer style (default) */\n",
              "\n",
              "#sk-container-id-10 div.sk-toggleable {\n",
              "  /* Default theme specific background. It is overwritten whether we have a\n",
              "  specific estimator or a Pipeline/ColumnTransformer */\n",
              "  background-color: var(--sklearn-color-background);\n",
              "}\n",
              "\n",
              "/* Toggleable label */\n",
              "#sk-container-id-10 label.sk-toggleable__label {\n",
              "  cursor: pointer;\n",
              "  display: flex;\n",
              "  width: 100%;\n",
              "  margin-bottom: 0;\n",
              "  padding: 0.5em;\n",
              "  box-sizing: border-box;\n",
              "  text-align: center;\n",
              "  align-items: start;\n",
              "  justify-content: space-between;\n",
              "  gap: 0.5em;\n",
              "}\n",
              "\n",
              "#sk-container-id-10 label.sk-toggleable__label .caption {\n",
              "  font-size: 0.6rem;\n",
              "  font-weight: lighter;\n",
              "  color: var(--sklearn-color-text-muted);\n",
              "}\n",
              "\n",
              "#sk-container-id-10 label.sk-toggleable__label-arrow:before {\n",
              "  /* Arrow on the left of the label */\n",
              "  content: \"▸\";\n",
              "  float: left;\n",
              "  margin-right: 0.25em;\n",
              "  color: var(--sklearn-color-icon);\n",
              "}\n",
              "\n",
              "#sk-container-id-10 label.sk-toggleable__label-arrow:hover:before {\n",
              "  color: var(--sklearn-color-text);\n",
              "}\n",
              "\n",
              "/* Toggleable content - dropdown */\n",
              "\n",
              "#sk-container-id-10 div.sk-toggleable__content {\n",
              "  max-height: 0;\n",
              "  max-width: 0;\n",
              "  overflow: hidden;\n",
              "  text-align: left;\n",
              "  /* unfitted */\n",
              "  background-color: var(--sklearn-color-unfitted-level-0);\n",
              "}\n",
              "\n",
              "#sk-container-id-10 div.sk-toggleable__content.fitted {\n",
              "  /* fitted */\n",
              "  background-color: var(--sklearn-color-fitted-level-0);\n",
              "}\n",
              "\n",
              "#sk-container-id-10 div.sk-toggleable__content pre {\n",
              "  margin: 0.2em;\n",
              "  border-radius: 0.25em;\n",
              "  color: var(--sklearn-color-text);\n",
              "  /* unfitted */\n",
              "  background-color: var(--sklearn-color-unfitted-level-0);\n",
              "}\n",
              "\n",
              "#sk-container-id-10 div.sk-toggleable__content.fitted pre {\n",
              "  /* unfitted */\n",
              "  background-color: var(--sklearn-color-fitted-level-0);\n",
              "}\n",
              "\n",
              "#sk-container-id-10 input.sk-toggleable__control:checked~div.sk-toggleable__content {\n",
              "  /* Expand drop-down */\n",
              "  max-height: 200px;\n",
              "  max-width: 100%;\n",
              "  overflow: auto;\n",
              "}\n",
              "\n",
              "#sk-container-id-10 input.sk-toggleable__control:checked~label.sk-toggleable__label-arrow:before {\n",
              "  content: \"▾\";\n",
              "}\n",
              "\n",
              "/* Pipeline/ColumnTransformer-specific style */\n",
              "\n",
              "#sk-container-id-10 div.sk-label input.sk-toggleable__control:checked~label.sk-toggleable__label {\n",
              "  color: var(--sklearn-color-text);\n",
              "  background-color: var(--sklearn-color-unfitted-level-2);\n",
              "}\n",
              "\n",
              "#sk-container-id-10 div.sk-label.fitted input.sk-toggleable__control:checked~label.sk-toggleable__label {\n",
              "  background-color: var(--sklearn-color-fitted-level-2);\n",
              "}\n",
              "\n",
              "/* Estimator-specific style */\n",
              "\n",
              "/* Colorize estimator box */\n",
              "#sk-container-id-10 div.sk-estimator input.sk-toggleable__control:checked~label.sk-toggleable__label {\n",
              "  /* unfitted */\n",
              "  background-color: var(--sklearn-color-unfitted-level-2);\n",
              "}\n",
              "\n",
              "#sk-container-id-10 div.sk-estimator.fitted input.sk-toggleable__control:checked~label.sk-toggleable__label {\n",
              "  /* fitted */\n",
              "  background-color: var(--sklearn-color-fitted-level-2);\n",
              "}\n",
              "\n",
              "#sk-container-id-10 div.sk-label label.sk-toggleable__label,\n",
              "#sk-container-id-10 div.sk-label label {\n",
              "  /* The background is the default theme color */\n",
              "  color: var(--sklearn-color-text-on-default-background);\n",
              "}\n",
              "\n",
              "/* On hover, darken the color of the background */\n",
              "#sk-container-id-10 div.sk-label:hover label.sk-toggleable__label {\n",
              "  color: var(--sklearn-color-text);\n",
              "  background-color: var(--sklearn-color-unfitted-level-2);\n",
              "}\n",
              "\n",
              "/* Label box, darken color on hover, fitted */\n",
              "#sk-container-id-10 div.sk-label.fitted:hover label.sk-toggleable__label.fitted {\n",
              "  color: var(--sklearn-color-text);\n",
              "  background-color: var(--sklearn-color-fitted-level-2);\n",
              "}\n",
              "\n",
              "/* Estimator label */\n",
              "\n",
              "#sk-container-id-10 div.sk-label label {\n",
              "  font-family: monospace;\n",
              "  font-weight: bold;\n",
              "  display: inline-block;\n",
              "  line-height: 1.2em;\n",
              "}\n",
              "\n",
              "#sk-container-id-10 div.sk-label-container {\n",
              "  text-align: center;\n",
              "}\n",
              "\n",
              "/* Estimator-specific */\n",
              "#sk-container-id-10 div.sk-estimator {\n",
              "  font-family: monospace;\n",
              "  border: 1px dotted var(--sklearn-color-border-box);\n",
              "  border-radius: 0.25em;\n",
              "  box-sizing: border-box;\n",
              "  margin-bottom: 0.5em;\n",
              "  /* unfitted */\n",
              "  background-color: var(--sklearn-color-unfitted-level-0);\n",
              "}\n",
              "\n",
              "#sk-container-id-10 div.sk-estimator.fitted {\n",
              "  /* fitted */\n",
              "  background-color: var(--sklearn-color-fitted-level-0);\n",
              "}\n",
              "\n",
              "/* on hover */\n",
              "#sk-container-id-10 div.sk-estimator:hover {\n",
              "  /* unfitted */\n",
              "  background-color: var(--sklearn-color-unfitted-level-2);\n",
              "}\n",
              "\n",
              "#sk-container-id-10 div.sk-estimator.fitted:hover {\n",
              "  /* fitted */\n",
              "  background-color: var(--sklearn-color-fitted-level-2);\n",
              "}\n",
              "\n",
              "/* Specification for estimator info (e.g. \"i\" and \"?\") */\n",
              "\n",
              "/* Common style for \"i\" and \"?\" */\n",
              "\n",
              ".sk-estimator-doc-link,\n",
              "a:link.sk-estimator-doc-link,\n",
              "a:visited.sk-estimator-doc-link {\n",
              "  float: right;\n",
              "  font-size: smaller;\n",
              "  line-height: 1em;\n",
              "  font-family: monospace;\n",
              "  background-color: var(--sklearn-color-background);\n",
              "  border-radius: 1em;\n",
              "  height: 1em;\n",
              "  width: 1em;\n",
              "  text-decoration: none !important;\n",
              "  margin-left: 0.5em;\n",
              "  text-align: center;\n",
              "  /* unfitted */\n",
              "  border: var(--sklearn-color-unfitted-level-1) 1pt solid;\n",
              "  color: var(--sklearn-color-unfitted-level-1);\n",
              "}\n",
              "\n",
              ".sk-estimator-doc-link.fitted,\n",
              "a:link.sk-estimator-doc-link.fitted,\n",
              "a:visited.sk-estimator-doc-link.fitted {\n",
              "  /* fitted */\n",
              "  border: var(--sklearn-color-fitted-level-1) 1pt solid;\n",
              "  color: var(--sklearn-color-fitted-level-1);\n",
              "}\n",
              "\n",
              "/* On hover */\n",
              "div.sk-estimator:hover .sk-estimator-doc-link:hover,\n",
              ".sk-estimator-doc-link:hover,\n",
              "div.sk-label-container:hover .sk-estimator-doc-link:hover,\n",
              ".sk-estimator-doc-link:hover {\n",
              "  /* unfitted */\n",
              "  background-color: var(--sklearn-color-unfitted-level-3);\n",
              "  color: var(--sklearn-color-background);\n",
              "  text-decoration: none;\n",
              "}\n",
              "\n",
              "div.sk-estimator.fitted:hover .sk-estimator-doc-link.fitted:hover,\n",
              ".sk-estimator-doc-link.fitted:hover,\n",
              "div.sk-label-container:hover .sk-estimator-doc-link.fitted:hover,\n",
              ".sk-estimator-doc-link.fitted:hover {\n",
              "  /* fitted */\n",
              "  background-color: var(--sklearn-color-fitted-level-3);\n",
              "  color: var(--sklearn-color-background);\n",
              "  text-decoration: none;\n",
              "}\n",
              "\n",
              "/* Span, style for the box shown on hovering the info icon */\n",
              ".sk-estimator-doc-link span {\n",
              "  display: none;\n",
              "  z-index: 9999;\n",
              "  position: relative;\n",
              "  font-weight: normal;\n",
              "  right: .2ex;\n",
              "  padding: .5ex;\n",
              "  margin: .5ex;\n",
              "  width: min-content;\n",
              "  min-width: 20ex;\n",
              "  max-width: 50ex;\n",
              "  color: var(--sklearn-color-text);\n",
              "  box-shadow: 2pt 2pt 4pt #999;\n",
              "  /* unfitted */\n",
              "  background: var(--sklearn-color-unfitted-level-0);\n",
              "  border: .5pt solid var(--sklearn-color-unfitted-level-3);\n",
              "}\n",
              "\n",
              ".sk-estimator-doc-link.fitted span {\n",
              "  /* fitted */\n",
              "  background: var(--sklearn-color-fitted-level-0);\n",
              "  border: var(--sklearn-color-fitted-level-3);\n",
              "}\n",
              "\n",
              ".sk-estimator-doc-link:hover span {\n",
              "  display: block;\n",
              "}\n",
              "\n",
              "/* \"?\"-specific style due to the `<a>` HTML tag */\n",
              "\n",
              "#sk-container-id-10 a.estimator_doc_link {\n",
              "  float: right;\n",
              "  font-size: 1rem;\n",
              "  line-height: 1em;\n",
              "  font-family: monospace;\n",
              "  background-color: var(--sklearn-color-background);\n",
              "  border-radius: 1rem;\n",
              "  height: 1rem;\n",
              "  width: 1rem;\n",
              "  text-decoration: none;\n",
              "  /* unfitted */\n",
              "  color: var(--sklearn-color-unfitted-level-1);\n",
              "  border: var(--sklearn-color-unfitted-level-1) 1pt solid;\n",
              "}\n",
              "\n",
              "#sk-container-id-10 a.estimator_doc_link.fitted {\n",
              "  /* fitted */\n",
              "  border: var(--sklearn-color-fitted-level-1) 1pt solid;\n",
              "  color: var(--sklearn-color-fitted-level-1);\n",
              "}\n",
              "\n",
              "/* On hover */\n",
              "#sk-container-id-10 a.estimator_doc_link:hover {\n",
              "  /* unfitted */\n",
              "  background-color: var(--sklearn-color-unfitted-level-3);\n",
              "  color: var(--sklearn-color-background);\n",
              "  text-decoration: none;\n",
              "}\n",
              "\n",
              "#sk-container-id-10 a.estimator_doc_link.fitted:hover {\n",
              "  /* fitted */\n",
              "  background-color: var(--sklearn-color-fitted-level-3);\n",
              "}\n",
              "</style><div id=\"sk-container-id-10\" class=\"sk-top-container\"><div class=\"sk-text-repr-fallback\"><pre>XGBClassifier(base_score=None, booster=None, callbacks=None,\n",
              "              colsample_bylevel=None, colsample_bynode=None,\n",
              "              colsample_bytree=0.7, device=None, early_stopping_rounds=None,\n",
              "              enable_categorical=False, eval_metric=None, feature_types=None,\n",
              "              gamma=1.15, grow_policy=None, importance_type=None,\n",
              "              interaction_constraints=None, learning_rate=0.05, max_bin=None,\n",
              "              max_cat_threshold=None, max_cat_to_onehot=None,\n",
              "              max_delta_step=None, max_depth=7, max_leaves=None,\n",
              "              min_child_weight=None, missing=nan, monotone_constraints=None,\n",
              "              multi_strategy=None, n_estimators=600, n_jobs=None,\n",
              "              num_parallel_tree=None, random_state=9, ...)</pre><b>In a Jupyter environment, please rerun this cell to show the HTML representation or trust the notebook. <br />On GitHub, the HTML representation is unable to render, please try loading this page with nbviewer.org.</b></div><div class=\"sk-container\" hidden><div class=\"sk-item\"><div class=\"sk-estimator fitted sk-toggleable\"><input class=\"sk-toggleable__control sk-hidden--visually\" id=\"sk-estimator-id-12\" type=\"checkbox\" checked><label for=\"sk-estimator-id-12\" class=\"sk-toggleable__label fitted sk-toggleable__label-arrow\"><div><div>XGBClassifier</div></div><div><span class=\"sk-estimator-doc-link fitted\">i<span>Fitted</span></span></div></label><div class=\"sk-toggleable__content fitted\"><pre>XGBClassifier(base_score=None, booster=None, callbacks=None,\n",
              "              colsample_bylevel=None, colsample_bynode=None,\n",
              "              colsample_bytree=0.7, device=None, early_stopping_rounds=None,\n",
              "              enable_categorical=False, eval_metric=None, feature_types=None,\n",
              "              gamma=1.15, grow_policy=None, importance_type=None,\n",
              "              interaction_constraints=None, learning_rate=0.05, max_bin=None,\n",
              "              max_cat_threshold=None, max_cat_to_onehot=None,\n",
              "              max_delta_step=None, max_depth=7, max_leaves=None,\n",
              "              min_child_weight=None, missing=nan, monotone_constraints=None,\n",
              "              multi_strategy=None, n_estimators=600, n_jobs=None,\n",
              "              num_parallel_tree=None, random_state=9, ...)</pre></div> </div></div></div></div>"
            ]
          },
          "metadata": {},
          "execution_count": 225
        }
      ]
    },
    {
      "cell_type": "code",
      "source": [
        "# Evaluating XGBoost accuracy\n",
        "y_train_pred_xgb = xgb_classifier.predict(x_train)\n",
        "y_test_pred_xgb = xgb_classifier.predict(x_test)\n",
        "\n",
        "train_acc_xgb = accuracy_score(y_train, y_train_pred_xgb)\n",
        "test_acc_xgb = accuracy_score(y_test, y_test_pred_xgb)\n",
        "\n",
        "print(f\"XGBoost Training Accuracy: {100*train_acc_xgb:.5f} %\")\n",
        "print(f\"XGBoost Testing Accuracy: {100*test_acc_xgb:.5f} %\")"
      ],
      "metadata": {
        "colab": {
          "base_uri": "https://localhost:8080/"
        },
        "id": "tgQECpe7R2j4",
        "outputId": "32ca8d12-39fc-4333-9b75-4d2472a13f9b"
      },
      "execution_count": 226,
      "outputs": [
        {
          "output_type": "stream",
          "name": "stdout",
          "text": [
            "XGBoost Training Accuracy: 98.04098 %\n",
            "XGBoost Testing Accuracy: 97.61202 %\n"
          ]
        }
      ]
    },
    {
      "cell_type": "code",
      "source": [
        "with open(\"xgb_model.pkl\", \"wb+\") as file:\n",
        "    pickle.dump(xgb_classifier, file)"
      ],
      "metadata": {
        "id": "dikDciKMfIsA"
      },
      "execution_count": 227,
      "outputs": []
    },
    {
      "cell_type": "code",
      "source": [
        "importances = xgb_classifier.feature_importances_\n",
        "feature_importance_df = pd.DataFrame({\n",
        "    'Feature': x_train.columns,\n",
        "    'Importance': importances\n",
        "})\n",
        "print(feature_importance_df.sort_values(by='Importance', ascending=False))"
      ],
      "metadata": {
        "colab": {
          "base_uri": "https://localhost:8080/"
        },
        "id": "V-ZKQ7aokuGP",
        "outputId": "6a397fbb-b9ec-4277-d379-2f4d94e763e1"
      },
      "execution_count": 228,
      "outputs": [
        {
          "output_type": "stream",
          "name": "stdout",
          "text": [
            "                        Feature  Importance\n",
            "2                   HbA1c_level    0.302058\n",
            "3           blood_glucose_level    0.209780\n",
            "6                hypertension_1    0.137084\n",
            "7               heart_disease_1    0.063586\n",
            "4                   gender_Male    0.056272\n",
            "0                           age    0.047484\n",
            "11        smoking_history_never    0.045482\n",
            "10       smoking_history_former    0.045136\n",
            "12  smoking_history_not current    0.028749\n",
            "8       smoking_history_current    0.028373\n",
            "9          smoking_history_ever    0.022197\n",
            "1                           bmi    0.013799\n",
            "5                  gender_Other    0.000000\n"
          ]
        }
      ]
    },
    {
      "cell_type": "markdown",
      "source": [
        "#ROC analysis to find better threshold"
      ],
      "metadata": {
        "id": "Fqzv3NP-7ck_"
      }
    },
    {
      "cell_type": "code",
      "source": [
        "from sklearn.metrics import roc_curve, auc\n",
        "import numpy as np\n",
        "\n",
        "# Get probabilities\n",
        "y_probs = xgb_classifier.predict_proba(x_test)[:, 1]\n",
        "\n",
        "# ROC Curve\n",
        "fpr, tpr, thresholds = roc_curve(y_test, y_probs)\n",
        "roc_auc = auc(fpr, tpr)\n",
        "print(\"ROC AUC:\", roc_auc)\n",
        "\n",
        "# Find threshold for sensitivity >= 0.99\n",
        "optimal_idx = np.argmax(tpr >= 0.99)  # First threshold where sensitivity >= 0.99\n",
        "optimal_threshold = thresholds[optimal_idx]\n",
        "print(f\"Threshold for Sensitivity >= 0.99: {optimal_threshold:.3f}\")\n",
        "print(f\"Sensitivity at this threshold: {tpr[optimal_idx]:.3f}\")\n",
        "print(f\"Specificity at this threshold: {1 - fpr[optimal_idx]:.3f}\")\n",
        "\n",
        "# Evaluate at the new threshold\n",
        "y_pred_adjusted = (y_probs > optimal_threshold).astype(int)\n",
        "cm = confusion_matrix(y_test, y_pred_adjusted)\n",
        "print(\"Confusion Matrix (New Threshold):\\n\", cm)\n",
        "tn, fp, fn, tp = cm.ravel()\n",
        "sensitivity = tp / (tp + fn)\n",
        "specificity = tn / (tn + fp)\n",
        "print(f\"Sensitivity: {sensitivity:.3f}\")\n",
        "print(f\"Specificity: {specificity:.3f}\")"
      ],
      "metadata": {
        "colab": {
          "base_uri": "https://localhost:8080/"
        },
        "id": "n_04z97F7JAr",
        "outputId": "89ed5e90-c758-4bab-9471-a4d7563f799d"
      },
      "execution_count": 235,
      "outputs": [
        {
          "output_type": "stream",
          "name": "stdout",
          "text": [
            "ROC AUC: 0.9976273000089583\n",
            "Threshold for Sensitivity >= 0.99: 0.160\n",
            "Sensitivity at this threshold: 0.990\n",
            "Specificity at this threshold: 0.922\n",
            "Confusion Matrix (New Threshold):\n",
            " [[16877  1423]\n",
            " [  184 18116]]\n",
            "Sensitivity: 0.990\n",
            "Specificity: 0.922\n"
          ]
        }
      ]
    },
    {
      "cell_type": "code",
      "source": [
        "# Adjusting decision threshold\n",
        "y_probs = xgb_classifier.predict_proba(x_test)[:, 1]\n",
        "\n",
        "# Set your decision threshold here (default is 0.5, change as needed)\n",
        "threshold = 0.146\n",
        "\n",
        "# Generate predictions based on the new threshold\n",
        "y_pred_adjusted = (y_probs > threshold).astype(int)\n",
        "\n",
        "# Evaluate the model using the adjusted predictions\n",
        "from sklearn.metrics import confusion_matrix, accuracy_score\n",
        "print(\"Confusion Matrix:\\n\", confusion_matrix(y_test, y_pred_adjusted))\n",
        "print(\"Adjusted Accuracy:\", accuracy_score(y_test, y_pred_adjusted))\n"
      ],
      "metadata": {
        "colab": {
          "base_uri": "https://localhost:8080/"
        },
        "id": "InS-lTypEnER",
        "outputId": "4b3476e4-c316-4823-bebe-fd0819fd9249"
      },
      "execution_count": 231,
      "outputs": [
        {
          "output_type": "stream",
          "name": "stdout",
          "text": [
            "Confusion Matrix:\n",
            " [[16741  1559]\n",
            " [  165 18135]]\n",
            "Adjusted Accuracy: 0.952896174863388\n"
          ]
        }
      ]
    },
    {
      "cell_type": "markdown",
      "source": [
        "CHECKING HOW OUR MODEL IS DEPENDENT ON FEATURES THROUGH A VISUAL REPRESENTATION"
      ],
      "metadata": {
        "id": "2t61iVUUIVzG"
      }
    },
    {
      "cell_type": "code",
      "source": [
        "# Check feature importance in XGBoost\n",
        "feature_importance = pd.Series(xgb_classifier.feature_importances_, index=x.columns)\n",
        "feature_importance.sort_values(ascending=False).plot(kind='bar', figsize=(10,5), title=\"Feature Importance\")\n",
        "plt.show()\n"
      ],
      "metadata": {
        "colab": {
          "base_uri": "https://localhost:8080/",
          "height": 494
        },
        "id": "q9Dvk4fsIPXv",
        "outputId": "667ac883-628b-4b7b-fadc-bb8946c3740e"
      },
      "execution_count": 234,
      "outputs": [
        {
          "output_type": "display_data",
          "data": {
            "text/plain": [
              "<Figure size 1000x500 with 1 Axes>"
            ],
            "image/png": "[encoded data removed]"
          },
          "metadata": {}
        }
      ]
    },
    {
      "cell_type": "markdown",
      "source": [
        "CHECKING OUR MODEL"
      ],
      "metadata": {
        "id": "vvzXl5_YJPNV"
      }
    },
    {
      "cell_type": "code",
      "source": [
        "!pip install shap\n",
        "#print shap version\n",
        "import shap\n",
        "shap.__version__"
      ],
      "metadata": {
        "id": "nubG04PNJYhH",
        "colab": {
          "base_uri": "https://localhost:8080/",
          "height": 364
        },
        "outputId": "9c431b03-3aff-4720-8a56-ede38d66c3a1"
      },
      "execution_count": 174,
      "outputs": [
        {
          "output_type": "stream",
          "name": "stdout",
          "text": [
            "Requirement already satisfied: shap in /usr/local/lib/python3.11/dist-packages (0.46.0)\n",
            "Requirement already satisfied: numpy in /usr/local/lib/python3.11/dist-packages (from shap) (2.0.2)\n",
            "Requirement already satisfied: scipy in /usr/local/lib/python3.11/dist-packages (from shap) (1.14.1)\n",
            "Requirement already satisfied: scikit-learn in /usr/local/lib/python3.11/dist-packages (from shap) (1.6.1)\n",
            "Requirement already satisfied: pandas in /usr/local/lib/python3.11/dist-packages (from shap) (2.2.2)\n",
            "Requirement already satisfied: tqdm>=4.27.0 in /usr/local/lib/python3.11/dist-packages (from shap) (4.67.1)\n",
            "Requirement already satisfied: packaging>20.9 in /usr/local/lib/python3.11/dist-packages (from shap) (24.2)\n",
            "Requirement already satisfied: slicer==0.0.8 in /usr/local/lib/python3.11/dist-packages (from shap) (0.0.8)\n",
            "Requirement already satisfied: numba in /usr/local/lib/python3.11/dist-packages (from shap) (0.60.0)\n",
            "Requirement already satisfied: cloudpickle in /usr/local/lib/python3.11/dist-packages (from shap) (3.1.1)\n",
            "Requirement already satisfied: llvmlite<0.44,>=0.43.0dev0 in /usr/local/lib/python3.11/dist-packages (from numba->shap) (0.43.0)\n",
            "Requirement already satisfied: python-dateutil>=2.8.2 in /usr/local/lib/python3.11/dist-packages (from pandas->shap) (2.8.2)\n",
            "Requirement already satisfied: pytz>=2020.1 in /usr/local/lib/python3.11/dist-packages (from pandas->shap) (2025.1)\n",
            "Requirement already satisfied: tzdata>=2022.7 in /usr/local/lib/python3.11/dist-packages (from pandas->shap) (2025.1)\n",
            "Requirement already satisfied: joblib>=1.2.0 in /usr/local/lib/python3.11/dist-packages (from scikit-learn->shap) (1.4.2)\n",
            "Requirement already satisfied: threadpoolctl>=3.1.0 in /usr/local/lib/python3.11/dist-packages (from scikit-learn->shap) (3.6.0)\n",
            "Requirement already satisfied: six>=1.5 in /usr/local/lib/python3.11/dist-packages (from python-dateutil>=2.8.2->pandas->shap) (1.17.0)\n"
          ]
        },
        {
          "output_type": "execute_result",
          "data": {
            "text/plain": [
              "'0.46.0'"
            ],
            "application/vnd.google.colaboratory.intrinsic+json": {
              "type": "string"
            }
          },
          "metadata": {},
          "execution_count": 174
        }
      ]
    },
    {
      "cell_type": "code",
      "source": [
        "print()"
      ],
      "metadata": {
        "colab": {
          "base_uri": "https://localhost:8080/"
        },
        "id": "p0teKtlTc5s-",
        "outputId": "f5415165-0ea7-4d1a-f313-5303f00b00db"
      },
      "execution_count": 233,
      "outputs": [
        {
          "output_type": "stream",
          "name": "stdout",
          "text": [
            "\n"
          ]
        }
      ]
    },
    {
      "cell_type": "code",
      "source": [],
      "metadata": {
        "id": "gREvdED7uLiA"
      },
      "execution_count": null,
      "outputs": []
    }
  ]
}