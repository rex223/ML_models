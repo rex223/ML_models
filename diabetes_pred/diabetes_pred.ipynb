{
  "nbformat": 4,
  "nbformat_minor": 0,
  "metadata": {
    "colab": {
      "provenance": [],
      "gpuType": "T4"
    },
    "kernelspec": {
      "name": "python3",
      "display_name": "Python 3"
    },
    "language_info": {
      "name": "python"
    },
    "accelerator": "GPU"
  },
  "cells": [
    {
      "cell_type": "code",
      "source": [
        "!pip install scikit-fuzzy"
      ],
      "metadata": {
        "id": "vbUM_nt-4F0E",
        "colab": {
          "base_uri": "https://localhost:8080/"
        },
        "outputId": "be4916ef-65b8-4616-d75f-ce43a3bf2363"
      },
      "execution_count": 2,
      "outputs": [
        {
          "output_type": "stream",
          "name": "stdout",
          "text": [
            "Collecting scikit-fuzzy\n",
            "  Downloading scikit_fuzzy-0.5.0-py2.py3-none-any.whl.metadata (2.6 kB)\n",
            "Downloading scikit_fuzzy-0.5.0-py2.py3-none-any.whl (920 kB)\n",
            "\u001b[?25l   \u001b[90m━━━━━━━━━━━━━━━━━━━━━━━━━━━━━━━━━━━━━━━━\u001b[0m \u001b[32m0.0/920.8 kB\u001b[0m \u001b[31m?\u001b[0m eta \u001b[36m-:--:--\u001b[0m\r\u001b[2K   \u001b[91m━━━━━━━━━━\u001b[0m\u001b[90m╺\u001b[0m\u001b[90m━━━━━━━━━━━━━━━━━━━━━━━━━━━━━\u001b[0m \u001b[32m235.5/920.8 kB\u001b[0m \u001b[31m7.5 MB/s\u001b[0m eta \u001b[36m0:00:01\u001b[0m\r\u001b[2K   \u001b[90m━━━━━━━━━━━━━━━━━━━━━━━━━━━━━━━━━━━━━━━━\u001b[0m \u001b[32m920.8/920.8 kB\u001b[0m \u001b[31m15.8 MB/s\u001b[0m eta \u001b[36m0:00:00\u001b[0m\n",
            "\u001b[?25hInstalling collected packages: scikit-fuzzy\n",
            "Successfully installed scikit-fuzzy-0.5.0\n"
          ]
        }
      ]
    },
    {
      "cell_type": "code",
      "execution_count": 9,
      "metadata": {
        "id": "j0wu8PEfFdB4"
      },
      "outputs": [],
      "source": [
        "import pandas as pd\n",
        "import numpy as np\n",
        "from sklearn.preprocessing import StandardScaler\n",
        "from sklearn.model_selection import train_test_split\n",
        "from sklearn import svm\n",
        "from sklearn.model_selection import GridSearchCV, RandomizedSearchCV\n",
        "from sklearn.metrics import accuracy_score, classification_report, confusion_matrix\n",
        "from imblearn.combine import SMOTETomek\n",
        "import pickle\n",
        "from xgboost import XGBClassifier\n",
        "import matplotlib.pyplot as plt\n",
        "from sklearn.ensemble import VotingClassifier\n",
        "import skfuzzy as fuzz\n",
        "import skfuzzy.control as ctrl"
      ]
    },
    {
      "cell_type": "code",
      "source": [
        "# !pip install streamlit"
      ],
      "metadata": {
        "id": "ncMZILmwqEzp"
      },
      "execution_count": 10,
      "outputs": []
    },
    {
      "cell_type": "code",
      "source": [
        "import numpy as np\n",
        "import sklearn\n",
        "import imblearn\n",
        "import xgboost\n",
        "import matplotlib\n",
        "import skfuzzy\n",
        "\n",
        "print(\"NumPy:\", np.__version__)\n",
        "print(\"Scikit-learn:\", sklearn.__version__)\n",
        "print(\"imblearn:\", imblearn.__version__)\n",
        "print(\"xgboost:\", xgboost.__version__)\n",
        "print(\"matplotlib:\", matplotlib.__version__)\n",
        "print(\"scikit-fuzzy:\", skfuzzy.__version__)"
      ],
      "metadata": {
        "colab": {
          "base_uri": "https://localhost:8080/"
        },
        "id": "H4k--eSyMyPG",
        "outputId": "9a133f4c-a162-48ec-c721-2e930c899a31"
      },
      "execution_count": 11,
      "outputs": [
        {
          "output_type": "stream",
          "name": "stdout",
          "text": [
            "NumPy: 2.0.2\n",
            "Scikit-learn: 1.6.1\n",
            "imblearn: 0.13.0\n",
            "xgboost: 2.1.4\n",
            "matplotlib: 3.10.0\n",
            "scikit-fuzzy: 0.5.0\n"
          ]
        }
      ]
    },
    {
      "cell_type": "code",
      "source": [
        "# Load dataset\n",
        "df = pd.read_csv('/content/diabetes.csv')\n",
        "print(df.head())\n",
        "# Handle categorical features\n",
        "categorical_cols = ['gender', 'hypertension', 'heart_disease', 'smoking_history']\n",
        "df[categorical_cols] = df[categorical_cols].astype(str)\n",
        "df = pd.get_dummies(df, columns=categorical_cols, drop_first=True)"
      ],
      "metadata": {
        "id": "g3MrT3akLUv7",
        "colab": {
          "base_uri": "https://localhost:8080/"
        },
        "outputId": "ac00dd77-36b9-4f61-ea85-924ce7aff0ad"
      },
      "execution_count": 12,
      "outputs": [
        {
          "output_type": "stream",
          "name": "stdout",
          "text": [
            "   gender   age  hypertension  heart_disease smoking_history    bmi  \\\n",
            "0  Female  80.0             0              1           never  25.19   \n",
            "1  Female  54.0             0              0         No Info  27.32   \n",
            "2    Male  28.0             0              0           never  27.32   \n",
            "3  Female  36.0             0              0         current  23.45   \n",
            "4    Male  76.0             1              1         current  20.14   \n",
            "\n",
            "   HbA1c_level  blood_glucose_level  diabetes  \n",
            "0          6.6                  140         0  \n",
            "1          6.6                   80         0  \n",
            "2          5.7                  158         0  \n",
            "3          5.0                  155         0  \n",
            "4          4.8                  155         0  \n"
          ]
        }
      ]
    },
    {
      "cell_type": "code",
      "source": [],
      "metadata": {
        "id": "SUbKkYrLZoto"
      },
      "execution_count": 12,
      "outputs": []
    },
    {
      "cell_type": "code",
      "source": [
        "# Features and target\n",
        "x = df.drop(columns=['diabetes'], axis=1)\n",
        "y = df['diabetes']#save the features\n",
        "with open('features.pkl','wb') as file:\n",
        "  pickle.dump(x.columns,file)"
      ],
      "metadata": {
        "id": "ae8Dd7GgH1yA"
      },
      "execution_count": 13,
      "outputs": []
    },
    {
      "cell_type": "code",
      "source": [],
      "metadata": {
        "id": "hvyHpJlx80PK"
      },
      "execution_count": 13,
      "outputs": []
    },
    {
      "cell_type": "markdown",
      "source": [
        "#implementing a fuzzy system for handling uncertainty"
      ],
      "metadata": {
        "id": "HeJEd3lW4wsE"
      }
    },
    {
      "cell_type": "code",
      "source": [
        "# Define fuzzy variables\n",
        "hba1c = ctrl.Antecedent(np.arange(3, 15, 0.1), 'HbA1c_level')\n",
        "bmi = ctrl.Antecedent(np.arange(10, 50, 0.1), 'bmi')\n",
        "glucose = ctrl.Antecedent(np.arange(50, 300, 1), 'blood_glucose_level')\n",
        "risk = ctrl.Consequent(np.arange(0, 1.1, 0.1), 'diabetes_risk')\n",
        "hypertension_range = np.arange(0, 1.1, 0.1)\n",
        "hypertension_fuzzy = ctrl.Antecedent(hypertension_range, 'hypertension')\n",
        "smoking_range = np.arange(0, 1.1, 0.1)\n",
        "smoking_fuzzy = ctrl.Antecedent(smoking_range, 'smoking')"
      ],
      "metadata": {
        "id": "flmrqo5H4vB_"
      },
      "execution_count": 14,
      "outputs": []
    },
    {
      "cell_type": "code",
      "source": [
        "#Define fuzzy sets (Low, Medium, High)\n",
        "hba1c.automf(3)\n",
        "bmi.automf(3)\n",
        "glucose.automf(3)\n",
        "risk.automf(3)\n",
        "#Defining fuzzy set for categorical data\n",
        "hypertension_fuzzy['absent'] = fuzz.trimf(hypertension_fuzzy.universe, [0, 0, 0.5])\n",
        "hypertension_fuzzy['present'] = fuzz.trimf(hypertension_fuzzy.universe, [0.5, 1, 1])\n",
        "smoking_fuzzy['never'] = fuzz.trimf(smoking_fuzzy.universe, [0, 0, 0.3])\n",
        "smoking_fuzzy['former'] = fuzz.trimf(smoking_fuzzy.universe, [0.2, 0.5, 0.8])\n",
        "smoking_fuzzy['current'] = fuzz.trimf(smoking_fuzzy.universe, [0.7, 1, 1])"
      ],
      "metadata": {
        "id": "sZ_GgcPj5OxJ"
      },
      "execution_count": 17,
      "outputs": []
    },
    {
      "cell_type": "code",
      "source": [
        "# Example fuzzy rules that incorporate all factors:\n",
        "rule1 = ctrl.Rule(hba1c['good'] & bmi['good'] & hypertension_fuzzy['present'] & smoking_fuzzy['current'], risk['good'])\n",
        "rule2 = ctrl.Rule(hba1c['average'] & glucose['average'] & hypertension_fuzzy['absent'] & smoking_fuzzy['former'], risk['average'])\n",
        "rule3 = ctrl.Rule(hba1c['poor'] & glucose['poor'] & hypertension_fuzzy['absent'] & smoking_fuzzy['never'], risk['poor'])\n",
        "\n",
        "# Create fuzzy control system\n",
        "risk_ctrl = ctrl.ControlSystem([rule1, rule2, rule3])\n",
        "risk_sim = ctrl.ControlSystemSimulation(risk_ctrl)\n",
        "#saving the fuzzy model\n",
        "with open(\"fuzzy.pkl\", \"wb\") as file:\n",
        "    pickle.dump(risk_ctrl, file)\n"
      ],
      "metadata": {
        "id": "07cUm0rv32wG"
      },
      "execution_count": 18,
      "outputs": []
    },
    {
      "cell_type": "code",
      "source": [],
      "metadata": {
        "id": "raB1tUzlUPqs"
      },
      "execution_count": 18,
      "outputs": []
    },
    {
      "cell_type": "code",
      "source": [
        "print(x.shape,y.shape)"
      ],
      "metadata": {
        "colab": {
          "base_uri": "https://localhost:8080/"
        },
        "id": "O5Yvz6UjuW6L",
        "outputId": "e168564d-ed7c-4116-9adb-a613db4a332d"
      },
      "execution_count": 19,
      "outputs": [
        {
          "output_type": "stream",
          "name": "stdout",
          "text": [
            "(100000, 13) (100000,)\n"
          ]
        }
      ]
    },
    {
      "cell_type": "code",
      "source": [
        "#finding missing values\n",
        "df.isnull().sum()"
      ],
      "metadata": {
        "colab": {
          "base_uri": "https://localhost:8080/",
          "height": 523
        },
        "id": "KobAy3rdmVBB",
        "outputId": "cde7846c-13cb-489c-8bac-0415f2929636"
      },
      "execution_count": 20,
      "outputs": [
        {
          "output_type": "execute_result",
          "data": {
            "text/plain": [
              "age                            0\n",
              "bmi                            0\n",
              "HbA1c_level                    0\n",
              "blood_glucose_level            0\n",
              "diabetes                       0\n",
              "gender_Male                    0\n",
              "gender_Other                   0\n",
              "hypertension_1                 0\n",
              "heart_disease_1                0\n",
              "smoking_history_current        0\n",
              "smoking_history_ever           0\n",
              "smoking_history_former         0\n",
              "smoking_history_never          0\n",
              "smoking_history_not current    0\n",
              "dtype: int64"
            ],
            "text/html": [
              "<div>\n",
              "<style scoped>\n",
              "    .dataframe tbody tr th:only-of-type {\n",
              "        vertical-align: middle;\n",
              "    }\n",
              "\n",
              "    .dataframe tbody tr th {\n",
              "        vertical-align: top;\n",
              "    }\n",
              "\n",
              "    .dataframe thead th {\n",
              "        text-align: right;\n",
              "    }\n",
              "</style>\n",
              "<table border=\"1\" class=\"dataframe\">\n",
              "  <thead>\n",
              "    <tr style=\"text-align: right;\">\n",
              "      <th></th>\n",
              "      <th>0</th>\n",
              "    </tr>\n",
              "  </thead>\n",
              "  <tbody>\n",
              "    <tr>\n",
              "      <th>age</th>\n",
              "      <td>0</td>\n",
              "    </tr>\n",
              "    <tr>\n",
              "      <th>bmi</th>\n",
              "      <td>0</td>\n",
              "    </tr>\n",
              "    <tr>\n",
              "      <th>HbA1c_level</th>\n",
              "      <td>0</td>\n",
              "    </tr>\n",
              "    <tr>\n",
              "      <th>blood_glucose_level</th>\n",
              "      <td>0</td>\n",
              "    </tr>\n",
              "    <tr>\n",
              "      <th>diabetes</th>\n",
              "      <td>0</td>\n",
              "    </tr>\n",
              "    <tr>\n",
              "      <th>gender_Male</th>\n",
              "      <td>0</td>\n",
              "    </tr>\n",
              "    <tr>\n",
              "      <th>gender_Other</th>\n",
              "      <td>0</td>\n",
              "    </tr>\n",
              "    <tr>\n",
              "      <th>hypertension_1</th>\n",
              "      <td>0</td>\n",
              "    </tr>\n",
              "    <tr>\n",
              "      <th>heart_disease_1</th>\n",
              "      <td>0</td>\n",
              "    </tr>\n",
              "    <tr>\n",
              "      <th>smoking_history_current</th>\n",
              "      <td>0</td>\n",
              "    </tr>\n",
              "    <tr>\n",
              "      <th>smoking_history_ever</th>\n",
              "      <td>0</td>\n",
              "    </tr>\n",
              "    <tr>\n",
              "      <th>smoking_history_former</th>\n",
              "      <td>0</td>\n",
              "    </tr>\n",
              "    <tr>\n",
              "      <th>smoking_history_never</th>\n",
              "      <td>0</td>\n",
              "    </tr>\n",
              "    <tr>\n",
              "      <th>smoking_history_not current</th>\n",
              "      <td>0</td>\n",
              "    </tr>\n",
              "  </tbody>\n",
              "</table>\n",
              "</div><br><label><b>dtype:</b> int64</label>"
            ]
          },
          "metadata": {},
          "execution_count": 20
        }
      ]
    },
    {
      "cell_type": "code",
      "source": [
        "df.value_counts(['diabetes'])"
      ],
      "metadata": {
        "colab": {
          "base_uri": "https://localhost:8080/",
          "height": 178
        },
        "id": "sQ0nX-TwdAHg",
        "outputId": "1e0fad58-cfde-4994-8b3e-3533858a8953"
      },
      "execution_count": 21,
      "outputs": [
        {
          "output_type": "execute_result",
          "data": {
            "text/plain": [
              "diabetes\n",
              "0           91500\n",
              "1            8500\n",
              "Name: count, dtype: int64"
            ],
            "text/html": [
              "<div>\n",
              "<style scoped>\n",
              "    .dataframe tbody tr th:only-of-type {\n",
              "        vertical-align: middle;\n",
              "    }\n",
              "\n",
              "    .dataframe tbody tr th {\n",
              "        vertical-align: top;\n",
              "    }\n",
              "\n",
              "    .dataframe thead th {\n",
              "        text-align: right;\n",
              "    }\n",
              "</style>\n",
              "<table border=\"1\" class=\"dataframe\">\n",
              "  <thead>\n",
              "    <tr style=\"text-align: right;\">\n",
              "      <th></th>\n",
              "      <th>count</th>\n",
              "    </tr>\n",
              "    <tr>\n",
              "      <th>diabetes</th>\n",
              "      <th></th>\n",
              "    </tr>\n",
              "  </thead>\n",
              "  <tbody>\n",
              "    <tr>\n",
              "      <th>0</th>\n",
              "      <td>91500</td>\n",
              "    </tr>\n",
              "    <tr>\n",
              "      <th>1</th>\n",
              "      <td>8500</td>\n",
              "    </tr>\n",
              "  </tbody>\n",
              "</table>\n",
              "</div><br><label><b>dtype:</b> int64</label>"
            ]
          },
          "metadata": {},
          "execution_count": 21
        }
      ]
    },
    {
      "cell_type": "markdown",
      "source": [
        "#our dataset is highly imbalanced so we correct it first"
      ],
      "metadata": {
        "id": "0XyV0hiGVZLD"
      }
    },
    {
      "cell_type": "code",
      "source": [
        "# Apply SMOTE + Tomek Links\n",
        "smote_tomek = SMOTETomek(sampling_strategy=1.0, random_state=42)\n",
        "x_resampled, y_resampled = smote_tomek.fit_resample(x, y)"
      ],
      "metadata": {
        "id": "i-K1kXA_mlwi"
      },
      "execution_count": 22,
      "outputs": []
    },
    {
      "cell_type": "code",
      "source": [
        "print(\"Class distribution after SMOTE:\\n\", pd.Series(y_resampled).value_counts())\n"
      ],
      "metadata": {
        "colab": {
          "base_uri": "https://localhost:8080/"
        },
        "id": "Obyc9n-w0jlp",
        "outputId": "6eebb1b6-5dd9-4c64-8ac3-e4d20025f216"
      },
      "execution_count": 23,
      "outputs": [
        {
          "output_type": "stream",
          "name": "stdout",
          "text": [
            "Class distribution after SMOTE:\n",
            " diabetes\n",
            "0    91243\n",
            "1    91243\n",
            "Name: count, dtype: int64\n"
          ]
        }
      ]
    },
    {
      "cell_type": "code",
      "source": [
        "print(x_resampled.shape,y_resampled.shape)"
      ],
      "metadata": {
        "colab": {
          "base_uri": "https://localhost:8080/"
        },
        "id": "k7FBxR_Wusxd",
        "outputId": "673be7e9-683d-43bc-9f05-2ea3b80e94a1"
      },
      "execution_count": 24,
      "outputs": [
        {
          "output_type": "stream",
          "name": "stdout",
          "text": [
            "(182486, 13) (182486,)\n"
          ]
        }
      ]
    },
    {
      "cell_type": "markdown",
      "source": [
        "#standardizing and normalizing data"
      ],
      "metadata": {
        "id": "Gp1B5AYVvEfv"
      }
    },
    {
      "cell_type": "code",
      "source": [
        "hba1c_min=x_resampled['HbA1c_level'].min()\n",
        "hba1c_max=x_resampled['HbA1c_level'].max()\n",
        "with open('hba1c_min_max.pkl','wb') as file:\n",
        "  pickle.dump((hba1c_min,hba1c_max),file)"
      ],
      "metadata": {
        "id": "6P7eTYXRaIHD"
      },
      "execution_count": 25,
      "outputs": []
    },
    {
      "cell_type": "code",
      "source": [
        "# Normalize HbA1c separately\n",
        "x_resampled['HbA1c_level'] = (x_resampled['HbA1c_level'] - hba1c_min) / (hba1c_max - hba1c_min)"
      ],
      "metadata": {
        "id": "qxb7LSEEATi2"
      },
      "execution_count": 26,
      "outputs": []
    },
    {
      "cell_type": "code",
      "source": [
        "# Standardizing\n",
        "scaler = StandardScaler()\n",
        "x_scaled = scaler.fit_transform(x_resampled)\n",
        "# Saving the scaler\n",
        "with open('scaler.pkl', 'wb') as scaler_file:\n",
        "    pickle.dump(scaler, scaler_file)"
      ],
      "metadata": {
        "id": "Zf6EMQJtvHcV"
      },
      "execution_count": 27,
      "outputs": []
    },
    {
      "cell_type": "markdown",
      "source": [
        "#splitting the dataset in test and train data"
      ],
      "metadata": {
        "id": "a2Q5eAqpEyqc"
      }
    },
    {
      "cell_type": "code",
      "source": [
        "# Splitting the dataset\n",
        "x_train, x_test, y_train, y_test = train_test_split(x_scaled, y_resampled, test_size=0.2, stratify=y_resampled, random_state=43)"
      ],
      "metadata": {
        "id": "WzojBU4MEyDU"
      },
      "execution_count": 28,
      "outputs": []
    },
    {
      "cell_type": "markdown",
      "source": [
        "#hyperparameter tuning"
      ],
      "metadata": {
        "id": "ZozKYtQmEo50"
      }
    },
    {
      "cell_type": "code",
      "source": [
        "# Hyperparameter tuning for SVM\n",
        "param_grid = {\n",
        "    'C': [1, 10],\n",
        "    'gamma': ['scale', 0.1, 1, 10]\n",
        "}\n",
        "\n",
        "grid = RandomizedSearchCV(\n",
        "    svm.SVC(kernel='rbf'),\n",
        "    param_distributions=param_grid,\n",
        "    n_iter=5,\n",
        "    cv=2,\n",
        "    scoring='accuracy',\n",
        "    verbose=1,\n",
        "    n_jobs=-1,\n",
        "    random_state=42\n",
        ")\n",
        "\n",
        "grid.fit(x_train[:20000], y_train[:20000])\n",
        "best_params = grid.best_params_\n",
        "print(\"✅ Best SVM Parameters:\", best_params)"
      ],
      "metadata": {
        "colab": {
          "base_uri": "https://localhost:8080/"
        },
        "id": "dWqoSAVXElus",
        "outputId": "fe74d4e4-da15-4d98-bdac-979adb5f469a"
      },
      "execution_count": 29,
      "outputs": [
        {
          "output_type": "stream",
          "name": "stdout",
          "text": [
            "Fitting 2 folds for each of 5 candidates, totalling 10 fits\n",
            "✅ Best SVM Parameters: {'gamma': 'scale', 'C': 1}\n"
          ]
        }
      ]
    },
    {
      "cell_type": "markdown",
      "source": [
        "#training and testing"
      ],
      "metadata": {
        "id": "5CuG-LVymm6H"
      }
    },
    {
      "cell_type": "code",
      "source": [
        "# Train SVM model with best params and non linear kernel\n",
        "classifier = svm.SVC(kernel='rbf', C=best_params['C'], gamma=best_params['gamma'])\n",
        "\n",
        "classifier.fit(x_train, y_train)\n",
        "# Save the trained model\n",
        "with open('model.pkl', 'wb') as model_file:\n",
        "    pickle.dump(classifier, model_file)"
      ],
      "metadata": {
        "id": "JfwC4Vr5Vekl"
      },
      "execution_count": 30,
      "outputs": []
    },
    {
      "cell_type": "markdown",
      "source": [
        "normal prediction after hyperparameter tuning"
      ],
      "metadata": {
        "id": "AVNrlVBFHShu"
      }
    },
    {
      "cell_type": "code",
      "source": [
        "# Model evaluation\n",
        "y_train_pred = classifier.predict(x_train)\n",
        "y_test_pred = classifier.predict(x_test)"
      ],
      "metadata": {
        "id": "D9-7FJ8jab5l"
      },
      "execution_count": 31,
      "outputs": []
    },
    {
      "cell_type": "code",
      "source": [
        "# Training and Testing Accuracy\n",
        "train_acc = accuracy_score(y_train, y_train_pred)\n",
        "test_acc = accuracy_score(y_test, y_test_pred)\n",
        "\n",
        "print(f\"Training Accuracy: {100*train_acc:.5f} %\")\n",
        "print(f\"Testing Accuracy: {100*test_acc:.5f} %\")"
      ],
      "metadata": {
        "colab": {
          "base_uri": "https://localhost:8080/"
        },
        "id": "pJuVGHh9a4kq",
        "outputId": "e100059f-56c2-473f-d678-7020cb56861f"
      },
      "execution_count": 32,
      "outputs": [
        {
          "output_type": "stream",
          "name": "stdout",
          "text": [
            "Training Accuracy: 93.19533 %\n",
            "Testing Accuracy: 93.28730 %\n"
          ]
        }
      ]
    },
    {
      "cell_type": "code",
      "source": [
        "# Test predictions before saving\n",
        "sample_inputs = x_test[:10]\n",
        "sample_preds = classifier.predict(sample_inputs)\n",
        "\n",
        "print(\"Sample Predictions:\", sample_preds)\n",
        "print(\"Actual Labels:     \", y_test[:10].values)"
      ],
      "metadata": {
        "colab": {
          "base_uri": "https://localhost:8080/"
        },
        "id": "vGhGXUmy6wAN",
        "outputId": "2b1eb343-64a5-4704-e80e-f3784f2485ae"
      },
      "execution_count": 33,
      "outputs": [
        {
          "output_type": "stream",
          "name": "stdout",
          "text": [
            "Sample Predictions: [1 1 1 0 1 0 0 1 0 0]\n",
            "Actual Labels:      [1 1 1 0 0 1 0 1 0 0]\n"
          ]
        }
      ]
    },
    {
      "cell_type": "code",
      "source": [
        "from sklearn.metrics import classification_report, confusion_matrix\n",
        "\n",
        "# Evaluate on test data\n",
        "print(\"Classification Report:\\n\", classification_report(y_test, y_test_pred))\n",
        "print(\"Confusion Matrix:\\n\", confusion_matrix(y_test, y_test_pred))"
      ],
      "metadata": {
        "colab": {
          "base_uri": "https://localhost:8080/"
        },
        "id": "JnUBjpOfDssf",
        "outputId": "cdae268b-b8ae-4501-afbe-c28225250d9a"
      },
      "execution_count": 34,
      "outputs": [
        {
          "output_type": "stream",
          "name": "stdout",
          "text": [
            "Classification Report:\n",
            "               precision    recall  f1-score   support\n",
            "\n",
            "           0       0.93      0.94      0.93     18249\n",
            "           1       0.94      0.93      0.93     18249\n",
            "\n",
            "    accuracy                           0.93     36498\n",
            "   macro avg       0.93      0.93      0.93     36498\n",
            "weighted avg       0.93      0.93      0.93     36498\n",
            "\n",
            "Confusion Matrix:\n",
            " [[17097  1152]\n",
            " [ 1298 16951]]\n"
          ]
        }
      ]
    },
    {
      "cell_type": "markdown",
      "source": [
        "#Using gradient boosting\n"
      ],
      "metadata": {
        "id": "aH84ShOjHvmL"
      }
    },
    {
      "cell_type": "code",
      "source": [
        "# Train XGBoost model\n",
        "xgb_classifier = XGBClassifier(n_estimators=600, max_depth=7, learning_rate=0.05,\n",
        "                               subsample=0.8, colsample_bytree=0.7,\n",
        "                               gamma=1.15,random_state=9)\n",
        "xgb_classifier.fit(x_train, y_train)\n",
        "with open(\"xgb_model.pkl\", \"wb\") as file:\n",
        "    pickle.dump(xgb_classifier, file)"
      ],
      "metadata": {
        "id": "6KbRTnIDHRka"
      },
      "execution_count": 35,
      "outputs": []
    },
    {
      "cell_type": "code",
      "source": [
        "# Evaluating XGBoost accuracy\n",
        "y_train_pred_xgb = xgb_classifier.predict(x_train)\n",
        "y_test_pred_xgb = xgb_classifier.predict(x_test)\n",
        "\n",
        "train_acc_xgb = accuracy_score(y_train, y_train_pred_xgb)\n",
        "test_acc_xgb = accuracy_score(y_test, y_test_pred_xgb)\n",
        "\n",
        "print(f\"XGBoost Training Accuracy: {100*train_acc_xgb:.5f} %\")\n",
        "print(f\"XGBoost Testing Accuracy: {100*test_acc_xgb:.5f} %\")"
      ],
      "metadata": {
        "colab": {
          "base_uri": "https://localhost:8080/"
        },
        "id": "tgQECpe7R2j4",
        "outputId": "7ce6c3e5-d37a-41f0-e13e-bf2f3c6d7a12"
      },
      "execution_count": 36,
      "outputs": [
        {
          "output_type": "stream",
          "name": "stdout",
          "text": [
            "XGBoost Training Accuracy: 97.99641 %\n",
            "XGBoost Testing Accuracy: 97.63001 %\n"
          ]
        }
      ]
    },
    {
      "cell_type": "code",
      "source": [
        "# Adjusting decision threshold\n",
        "y_probs = xgb_classifier.predict_proba(x_test)[:, 1]\n",
        "\n",
        "# Set your decision threshold here (default is 0.5, change as needed)\n",
        "threshold = 0.25\n",
        "\n",
        "# Generate predictions based on the new threshold\n",
        "y_pred_adjusted = (y_probs > threshold).astype(int)\n",
        "\n",
        "# Evaluate the model using the adjusted predictions\n",
        "from sklearn.metrics import confusion_matrix, accuracy_score\n",
        "print(\"Confusion Matrix:\\n\", confusion_matrix(y_test, y_pred_adjusted))\n",
        "print(\"Adjusted Accuracy:\", accuracy_score(y_test, y_pred_adjusted))\n"
      ],
      "metadata": {
        "colab": {
          "base_uri": "https://localhost:8080/"
        },
        "id": "InS-lTypEnER",
        "outputId": "a2a7121a-6899-4de8-90e9-87eb04b96533"
      },
      "execution_count": 37,
      "outputs": [
        {
          "output_type": "stream",
          "name": "stdout",
          "text": [
            "Confusion Matrix:\n",
            " [[17338   911]\n",
            " [  323 17926]]\n",
            "Adjusted Accuracy: 0.9661899282152446\n"
          ]
        }
      ]
    },
    {
      "cell_type": "markdown",
      "source": [
        "CHECKING HOW OUR MODEL IS DEPENDENT ON FEATURES THROUGH A VISUAL REPRESENTATION"
      ],
      "metadata": {
        "id": "2t61iVUUIVzG"
      }
    },
    {
      "cell_type": "code",
      "source": [
        "# Check feature importance in XGBoost\n",
        "feature_importance = pd.Series(xgb_classifier.feature_importances_, index=x.columns)\n",
        "feature_importance.sort_values(ascending=False).plot(kind='bar', figsize=(10,5), title=\"Feature Importance\")\n",
        "plt.show()\n"
      ],
      "metadata": {
        "colab": {
          "base_uri": "https://localhost:8080/",
          "height": 506
        },
        "id": "q9Dvk4fsIPXv",
        "outputId": "50a8a3fc-42df-46c0-b3af-88721171af3f"
      },
      "execution_count": 38,
      "outputs": [
        {
          "output_type": "display_data",
          "data": {
            "text/plain": [
              "<Figure size 1000x500 with 1 Axes>"
            ],
            "image/png": "[encoded data removed]"
          },
          "metadata": {}
        }
      ]
    },
    {
      "cell_type": "markdown",
      "source": [
        "CHECKING OUR MODEL"
      ],
      "metadata": {
        "id": "vvzXl5_YJPNV"
      }
    },
    {
      "cell_type": "code",
      "source": [],
      "metadata": {
        "id": "f7X-PgXhhaza"
      },
      "execution_count": null,
      "outputs": []
    },
    {
      "cell_type": "code",
      "source": [
        "# Test predictions before saving\n",
        "sample_inputs = x_test[:10]\n",
        "sample_preds = classifier.predict(sample_inputs)\n",
        "\n",
        "print(\"Sample Predictions:\", sample_preds)\n",
        "print(\"Actual Labels     :\", y_test[:10].values)"
      ],
      "metadata": {
        "colab": {
          "base_uri": "https://localhost:8080/"
        },
        "id": "0iWCW1k6A86Y",
        "outputId": "b2d5cced-1103-42ec-b70d-42891c6ef049"
      },
      "execution_count": 39,
      "outputs": [
        {
          "output_type": "stream",
          "name": "stdout",
          "text": [
            "Sample Predictions: [1 1 1 0 1 0 0 1 0 0]\n",
            "Actual Labels     : [1 1 1 0 0 1 0 1 0 0]\n"
          ]
        }
      ]
    }
  ]
}