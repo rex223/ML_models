{
  "nbformat": 4,
  "nbformat_minor": 0,
  "metadata": {
    "colab": {
      "provenance": []
    },
    "kernelspec": {
      "name": "python3",
      "display_name": "Python 3"
    },
    "language_info": {
      "name": "python"
    }
  },
  "cells": [
    {
      "cell_type": "markdown",
      "source": [
        "#Influenza Pandemic Prediction Model\n"
      ],
      "metadata": {
        "id": "IDSUl2JFjcjN"
      }
    },
    {
      "cell_type": "code",
      "source": [
        "import pandas as pd\n",
        "import numpy as np\n",
        "import matplotlib.pyplot as plt\n",
        "import xgboost as xgb\n",
        "import pickle\n",
        "import sklearn\n",
        "import imblearn"
      ],
      "metadata": {
        "id": "pdEPYG1ujaDB"
      },
      "execution_count": null,
      "outputs": []
    },
    {
      "cell_type": "markdown",
      "source": [
        "loading data"
      ],
      "metadata": {
        "id": "cB18f_n5jlxh"
      }
    },
    {
      "cell_type": "code",
      "source": [
        "from sklearn.model_selection import train_test_split\n",
        "from sklearn.metrics import classification_report, confusion_matrix\n",
        "from sklearn.impute import SimpleImputer\n",
        "from scipy.interpolate import CubicSpline\n",
        "from sklearn.model_selection import GridSearchCV\n",
        "from imblearn.over_sampling import SMOTE\n",
        "from sklearn.calibration import CalibratedClassifierCV"
      ],
      "metadata": {
        "id": "REWUGmyftqsW"
      },
      "execution_count": null,
      "outputs": []
    },
    {
      "cell_type": "code",
      "source": [
        "#print the versions of libraries used\n",
        "print(\"Pandas:\", pd.__version__)\n",
        "print(\"NumPy:\", np.__version__)\n",
        "print(\"Scikit-learn:\", sklearn.__version__)\n",
        "print(\"imblearn:\", imblearn.__version__)\n",
        "print(\"xgboost:\", xgb.__version__)"
      ],
      "metadata": {
        "colab": {
          "base_uri": "https://localhost:8080/"
        },
        "id": "CaBuuy_q_6ul",
        "outputId": "67fd5ed6-3c86-4ebb-b4b3-0a631a99dd03"
      },
      "execution_count": null,
      "outputs": [
        {
          "output_type": "stream",
          "name": "stdout",
          "text": [
            "Pandas: 2.2.2\n",
            "NumPy: 2.0.2\n",
            "Scikit-learn: 1.6.1\n",
            "imblearn: 0.13.0\n",
            "xgboost: 2.1.4\n"
          ]
        }
      ]
    },
    {
      "cell_type": "code",
      "execution_count": 82,
      "metadata": {
        "id": "755iXjLg_FMP",
        "colab": {
          "base_uri": "https://localhost:8080/"
        },
        "outputId": "aef8ddb0-73d9-4e4d-a107-16e38813a14a"
      },
      "outputs": [
        {
          "output_type": "stream",
          "name": "stderr",
          "text": [
            "<ipython-input-82-b63982c3c5bf>:7: DtypeWarning: Columns (21) have mixed types. Specify dtype option on import or set low_memory=False.\n",
            "  influenza_weekly_df = pd.read_csv('/content/influenza_weekly.csv')\n"
          ]
        }
      ],
      "source": [
        "pop_density_df = pd.read_excel('/content/pop-x1_timeseries_popdensity_timeseries_annual_2010-2100_mean_ssp245_gpw-v4_rev11_mean.xlsx')\n",
        "\n",
        "temperature_df = pd.read_excel('/content/era5-x0.25_climatology_tas_climatology_monthly_1991-2020_mean_historical_era5_x0.25_mean.xlsx')\n",
        "pig_vaccination_df = pd.read_csv('/content/pig_vaccination.csv')\n",
        "poultry_deaths_df = pd.read_csv('/content/poultry_deaths.csv')\n",
        "census_df = pd.read_excel('/content/2011-IndiaStateDist-0000.xlsx')\n",
        "influenza_weekly_df = pd.read_csv('/content/influenza_weekly.csv')\n",
        "india_influenza_df=influenza_weekly_df.query(\"Country=='India'\").drop(columns=['ALL_INF2'],errors='ignore').copy()"
      ]
    },
    {
      "cell_type": "code",
      "source": [
        "state_pop_density_df = pop_density_df.iloc[66:102].reset_index(drop=True)\n",
        "pop_density_df = pop_density_df[66:102]\n",
        "print(state_pop_density_df.tail())"
      ],
      "metadata": {
        "id": "5ytwqEuOGI5S",
        "colab": {
          "base_uri": "https://localhost:8080/"
        },
        "outputId": "f2a7940c-960a-4589-f851-8d4baa16e6b7"
      },
      "execution_count": 83,
      "outputs": [
        {
          "output_type": "stream",
          "name": "stdout",
          "text": [
            "        code                    name   2010-07   2020-07   2030-07   2040-07  \\\n",
            "31  IND.1155                   Bihar  1032.553  1181.669  1307.304  1409.450   \n",
            "32  IND.1156              Chandigarh   243.860   273.954   298.760   317.870   \n",
            "33  IND.1157            Chhattisgarh   208.230   237.395   261.949   282.019   \n",
            "34  IND.1158  Dadra and Nagar Haveli   388.892   444.015   490.108   527.589   \n",
            "35  IND.1159           Daman and Diu   324.992   364.361   396.975   421.702   \n",
            "\n",
            "     2050-07   2060-07   2070-07   2080-07   2090-07   2100-07  \n",
            "31  1483.014  1517.136  1511.505  1474.341  1411.256  1333.818  \n",
            "32   330.350   334.120   329.541   318.683   302.969   284.774  \n",
            "33   296.558   303.292   302.159   294.770   282.231   266.769  \n",
            "34   554.482   566.540   563.733   549.172   525.011   495.495  \n",
            "35   437.370   441.129   433.502   417.338   394.580   368.600  \n"
          ]
        }
      ]
    },
    {
      "cell_type": "code",
      "source": [
        "print(f\"India data shape: {india_influenza_df.shape}\")\n",
        "print(f\"Temperature data shape: {temperature_df.shape}\")\n",
        "print(f\"Population density data shape: {pop_density_df.shape}\")\n",
        "print(f\"State population density data shape: {state_pop_density_df.shape}\")\n",
        "print(f\"Pig vaccination data shape: {pig_vaccination_df.shape}\")\n",
        "print(f\"Poultry deaths data shape: {poultry_deaths_df.shape}\")\n",
        "print(f\"Census data shape: {census_df.shape}\")\n"
      ],
      "metadata": {
        "colab": {
          "base_uri": "https://localhost:8080/"
        },
        "id": "pvNB98TB_oSp",
        "outputId": "2a022557-ad9c-4407-f8cc-5c46329114af"
      },
      "execution_count": 84,
      "outputs": [
        {
          "output_type": "stream",
          "name": "stdout",
          "text": [
            "India data shape: (584, 22)\n",
            "Temperature data shape: (148, 14)\n",
            "Population density data shape: (36, 12)\n",
            "State population density data shape: (36, 12)\n",
            "Pig vaccination data shape: (20, 4)\n",
            "Poultry deaths data shape: (14, 12)\n",
            "Census data shape: (2028, 94)\n"
          ]
        }
      ]
    },
    {
      "cell_type": "code",
      "source": [
        "print(india_influenza_df.isna().sum())\n",
        "print(india_influenza_df.dtypes)"
      ],
      "metadata": {
        "colab": {
          "base_uri": "https://localhost:8080/"
        },
        "id": "KjO45pJns0qv",
        "outputId": "88a601b2-5e10-43be-c055-06a90e78105c"
      },
      "execution_count": 85,
      "outputs": [
        {
          "output_type": "stream",
          "name": "stdout",
          "text": [
            "REPORT_ID              0\n",
            "Country                0\n",
            "WHOREGION              0\n",
            "FLUREGION              0\n",
            "Year                   0\n",
            "Week                   0\n",
            "SDATE                  0\n",
            "EDATE                  0\n",
            "SPEC_RECEIVED_NB      60\n",
            "SPEC_PROCESSED_NB     23\n",
            "AH1                  171\n",
            "AH1N12009             49\n",
            "AH3                   46\n",
            "AH5                  197\n",
            "ANOTSUBTYPED         196\n",
            "INF_A                  0\n",
            "BYAMAGATA            120\n",
            "BVICTORIA            131\n",
            "BNOTDETERMINED        31\n",
            "INF_B                  0\n",
            "ALL_INF                0\n",
            "TITLE                  0\n",
            "dtype: int64\n",
            "REPORT_ID              int64\n",
            "Country               object\n",
            "WHOREGION             object\n",
            "FLUREGION             object\n",
            "Year                   int64\n",
            "Week                   int64\n",
            "SDATE                 object\n",
            "EDATE                 object\n",
            "SPEC_RECEIVED_NB     float64\n",
            "SPEC_PROCESSED_NB    float64\n",
            "AH1                  float64\n",
            "AH1N12009            float64\n",
            "AH3                  float64\n",
            "AH5                  float64\n",
            "ANOTSUBTYPED         float64\n",
            "INF_A                  int64\n",
            "BYAMAGATA            float64\n",
            "BVICTORIA            float64\n",
            "BNOTDETERMINED       float64\n",
            "INF_B                  int64\n",
            "ALL_INF                int64\n",
            "TITLE                 object\n",
            "dtype: object\n"
          ]
        }
      ]
    },
    {
      "cell_type": "code",
      "source": [
        "# Filter rows where Name is uppercase (state-level data)\n",
        "census_df['is_state'] = census_df['Name'].str.isupper()\n",
        "state_rows = census_df[census_df['is_state']].copy()"
      ],
      "metadata": {
        "id": "mfXFWefm30vW"
      },
      "execution_count": 86,
      "outputs": []
    },
    {
      "cell_type": "code",
      "source": [
        "andhra_pradesh_row = state_rows[state_rows['Name'] == 'ANDHRA PRADESH'].copy()"
      ],
      "metadata": {
        "id": "CGW7S7yEGcuo"
      },
      "execution_count": 87,
      "outputs": []
    },
    {
      "cell_type": "code",
      "source": [
        "# Adding Telangana\n",
        "total_ap_population_2011 = andhra_pradesh_row['TOT_P'].values[0]\n",
        "telangana_population_2011 = 35600000\n",
        "andhra_pradesh_population_2011 = total_ap_population_2011 - telangana_population_2011\n",
        "\n",
        "# Create a new row for Telangana\n",
        "telangana_row = andhra_pradesh_row.copy()\n",
        "telangana_row['Name'] = 'TELANGANA'\n",
        "telangana_row['TOT_P'] = telangana_population_2011\n",
        "\n",
        "# Update Andhra Pradesh's population\n",
        "andhra_pradesh_row['TOT_P'] = andhra_pradesh_population_2011\n",
        "\n",
        "# Combine the adjusted rows with state_rows\n",
        "state_rows = pd.concat([state_rows[state_rows['Name'] != 'ANDHRA PRADESH'],\n",
        "                        andhra_pradesh_row,\n",
        "                        telangana_row],\n",
        "                       ignore_index=True)"
      ],
      "metadata": {
        "id": "4zXH9YHeyiJo"
      },
      "execution_count": 88,
      "outputs": []
    },
    {
      "cell_type": "code",
      "source": [
        "# renaming column names for pop_density\n",
        "state_pop_density_df = state_pop_density_df.rename(columns={\n",
        "    '2010-07': 'pop_density_2010',\n",
        "    '2020-07': 'pop_density_2020',\n",
        "    '2030-07': 'pop_density_2030'\n",
        "})"
      ],
      "metadata": {
        "id": "ANxjnE5wkapQ"
      },
      "execution_count": 89,
      "outputs": []
    },
    {
      "cell_type": "code",
      "source": [
        "# Group by 'Name', take the first occurrence, reset index, and select/rename columns\n",
        "state_population_2011 = state_rows.groupby('Name').first().reset_index()\n",
        "state_population_2011 = state_population_2011[['Name', 'TOT_P']].rename(columns={'Name': 'name', 'TOT_P': 'population_2011'})"
      ],
      "metadata": {
        "id": "KebydnTtvkV_"
      },
      "execution_count": 90,
      "outputs": []
    },
    {
      "cell_type": "code",
      "source": [
        "print(\"Columns before merge:\", state_pop_density_df.columns)\n",
        "columns_to_drop = [col for col in state_pop_density_df.columns if 'population_2011' in col]\n",
        "if columns_to_drop:\n",
        "    print(f\"Dropping conflicting columns: {columns_to_drop}\")\n",
        "    state_pop_density_df = state_pop_density_df.drop(columns=columns_to_drop)"
      ],
      "metadata": {
        "colab": {
          "base_uri": "https://localhost:8080/"
        },
        "id": "xoHmG3g7tkZV",
        "outputId": "b4124479-bb75-4d88-d3e5-293477307e9c"
      },
      "execution_count": 91,
      "outputs": [
        {
          "output_type": "stream",
          "name": "stdout",
          "text": [
            "Columns before merge: Index(['code', 'name', 'pop_density_2010', 'pop_density_2020',\n",
            "       'pop_density_2030', '2040-07', '2050-07', '2060-07', '2070-07',\n",
            "       '2080-07', '2090-07', '2100-07'],\n",
            "      dtype='object')\n"
          ]
        }
      ]
    },
    {
      "cell_type": "code",
      "source": [
        "state_pop_density_df = state_pop_density_df.merge(state_population_2011, on='name', how='left')\n",
        "state_pop_density_df['area'] = state_pop_density_df['population_2011'] / state_pop_density_df['pop_density_2010']"
      ],
      "metadata": {
        "id": "FEcugC_U1aZr"
      },
      "execution_count": 92,
      "outputs": []
    },
    {
      "cell_type": "code",
      "source": [
        "temperature_df=temperature_df.iloc[66:102].reset_index(drop=True)\n",
        "temperature_df.tail()"
      ],
      "metadata": {
        "colab": {
          "base_uri": "https://localhost:8080/",
          "height": 206
        },
        "id": "TOvNVDjK_gCn",
        "outputId": "e79fccbe-4b52-4187-da1b-a6684566b591"
      },
      "execution_count": 93,
      "outputs": [
        {
          "output_type": "execute_result",
          "data": {
            "text/plain": [
              "        code                    name  1991-01  1991-02  1991-03  1991-04  \\\n",
              "31  IND.1155                   Bihar    15.78    19.75    25.35    30.04   \n",
              "32  IND.1156              Chandigarh    12.24    15.86    21.11    27.57   \n",
              "33  IND.1157            Chhattisgarh    19.22    22.63    27.01    30.81   \n",
              "34  IND.1158  Dadra and Nagar Haveli    21.99    23.65    26.74    28.68   \n",
              "35  IND.1159           Daman and Diu    22.60    23.66    26.13    28.02   \n",
              "\n",
              "    1991-05  1991-06  1991-07  1991-08  1991-09  1991-10  1991-11  1991-12  \n",
              "31    31.42    31.01    29.41    29.23    28.54    26.38    21.90    17.32  \n",
              "32    31.46    31.68    29.42    28.51    27.39    24.08    18.44    13.63  \n",
              "33    32.94    29.80    26.56    26.09    26.38    25.16    22.03    19.14  \n",
              "34    29.74    28.40    26.57    26.17    26.64    27.46    26.00    23.30  \n",
              "35    29.06    28.81    27.51    26.95    27.42    28.35    26.79    24.12  "
            ],
            "text/html": [
              "\n",
              "  <div id=\"df-1f6fda3f-99e1-47d0-b808-803e9c06c1d4\" class=\"colab-df-container\">\n",
              "    <div>\n",
              "<style scoped>\n",
              "    .dataframe tbody tr th:only-of-type {\n",
              "        vertical-align: middle;\n",
              "    }\n",
              "\n",
              "    .dataframe tbody tr th {\n",
              "        vertical-align: top;\n",
              "    }\n",
              "\n",
              "    .dataframe thead th {\n",
              "        text-align: right;\n",
              "    }\n",
              "</style>\n",
              "<table border=\"1\" class=\"dataframe\">\n",
              "  <thead>\n",
              "    <tr style=\"text-align: right;\">\n",
              "      <th></th>\n",
              "      <th>code</th>\n",
              "      <th>name</th>\n",
              "      <th>1991-01</th>\n",
              "      <th>1991-02</th>\n",
              "      <th>1991-03</th>\n",
              "      <th>1991-04</th>\n",
              "      <th>1991-05</th>\n",
              "      <th>1991-06</th>\n",
              "      <th>1991-07</th>\n",
              "      <th>1991-08</th>\n",
              "      <th>1991-09</th>\n",
              "      <th>1991-10</th>\n",
              "      <th>1991-11</th>\n",
              "      <th>1991-12</th>\n",
              "    </tr>\n",
              "  </thead>\n",
              "  <tbody>\n",
              "    <tr>\n",
              "      <th>31</th>\n",
              "      <td>IND.1155</td>\n",
              "      <td>Bihar</td>\n",
              "      <td>15.78</td>\n",
              "      <td>19.75</td>\n",
              "      <td>25.35</td>\n",
              "      <td>30.04</td>\n",
              "      <td>31.42</td>\n",
              "      <td>31.01</td>\n",
              "      <td>29.41</td>\n",
              "      <td>29.23</td>\n",
              "      <td>28.54</td>\n",
              "      <td>26.38</td>\n",
              "      <td>21.90</td>\n",
              "      <td>17.32</td>\n",
              "    </tr>\n",
              "    <tr>\n",
              "      <th>32</th>\n",
              "      <td>IND.1156</td>\n",
              "      <td>Chandigarh</td>\n",
              "      <td>12.24</td>\n",
              "      <td>15.86</td>\n",
              "      <td>21.11</td>\n",
              "      <td>27.57</td>\n",
              "      <td>31.46</td>\n",
              "      <td>31.68</td>\n",
              "      <td>29.42</td>\n",
              "      <td>28.51</td>\n",
              "      <td>27.39</td>\n",
              "      <td>24.08</td>\n",
              "      <td>18.44</td>\n",
              "      <td>13.63</td>\n",
              "    </tr>\n",
              "    <tr>\n",
              "      <th>33</th>\n",
              "      <td>IND.1157</td>\n",
              "      <td>Chhattisgarh</td>\n",
              "      <td>19.22</td>\n",
              "      <td>22.63</td>\n",
              "      <td>27.01</td>\n",
              "      <td>30.81</td>\n",
              "      <td>32.94</td>\n",
              "      <td>29.80</td>\n",
              "      <td>26.56</td>\n",
              "      <td>26.09</td>\n",
              "      <td>26.38</td>\n",
              "      <td>25.16</td>\n",
              "      <td>22.03</td>\n",
              "      <td>19.14</td>\n",
              "    </tr>\n",
              "    <tr>\n",
              "      <th>34</th>\n",
              "      <td>IND.1158</td>\n",
              "      <td>Dadra and Nagar Haveli</td>\n",
              "      <td>21.99</td>\n",
              "      <td>23.65</td>\n",
              "      <td>26.74</td>\n",
              "      <td>28.68</td>\n",
              "      <td>29.74</td>\n",
              "      <td>28.40</td>\n",
              "      <td>26.57</td>\n",
              "      <td>26.17</td>\n",
              "      <td>26.64</td>\n",
              "      <td>27.46</td>\n",
              "      <td>26.00</td>\n",
              "      <td>23.30</td>\n",
              "    </tr>\n",
              "    <tr>\n",
              "      <th>35</th>\n",
              "      <td>IND.1159</td>\n",
              "      <td>Daman and Diu</td>\n",
              "      <td>22.60</td>\n",
              "      <td>23.66</td>\n",
              "      <td>26.13</td>\n",
              "      <td>28.02</td>\n",
              "      <td>29.06</td>\n",
              "      <td>28.81</td>\n",
              "      <td>27.51</td>\n",
              "      <td>26.95</td>\n",
              "      <td>27.42</td>\n",
              "      <td>28.35</td>\n",
              "      <td>26.79</td>\n",
              "      <td>24.12</td>\n",
              "    </tr>\n",
              "  </tbody>\n",
              "</table>\n",
              "</div>\n",
              "    <div class=\"colab-df-buttons\">\n",
              "\n",
              "  <div class=\"colab-df-container\">\n",
              "    <button class=\"colab-df-convert\" onclick=\"convertToInteractive('df-1f6fda3f-99e1-47d0-b808-803e9c06c1d4')\"\n",
              "            title=\"Convert this dataframe to an interactive table.\"\n",
              "            style=\"display:none;\">\n",
              "\n",
              "  <svg xmlns=\"http://www.w3.org/2000/svg\" height=\"24px\" viewBox=\"0 -960 960 960\">\n",
              "    <path d=\"M120-120v-720h720v720H120Zm60-500h600v-160H180v160Zm220 220h160v-160H400v160Zm0 220h160v-160H400v160ZM180-400h160v-160H180v160Zm440 0h160v-160H620v160ZM180-180h160v-160H180v160Zm440 0h160v-160H620v160Z\"/>\n",
              "  </svg>\n",
              "    </button>\n",
              "\n",
              "  <style>\n",
              "    .colab-df-container {\n",
              "      display:flex;\n",
              "      gap: 12px;\n",
              "    }\n",
              "\n",
              "    .colab-df-convert {\n",
              "      background-color: #E8F0FE;\n",
              "      border: none;\n",
              "      border-radius: 50%;\n",
              "      cursor: pointer;\n",
              "      display: none;\n",
              "      fill: #1967D2;\n",
              "      height: 32px;\n",
              "      padding: 0 0 0 0;\n",
              "      width: 32px;\n",
              "    }\n",
              "\n",
              "    .colab-df-convert:hover {\n",
              "      background-color: #E2EBFA;\n",
              "      box-shadow: 0px 1px 2px rgba(60, 64, 67, 0.3), 0px 1px 3px 1px rgba(60, 64, 67, 0.15);\n",
              "      fill: #174EA6;\n",
              "    }\n",
              "\n",
              "    .colab-df-buttons div {\n",
              "      margin-bottom: 4px;\n",
              "    }\n",
              "\n",
              "    [theme=dark] .colab-df-convert {\n",
              "      background-color: #3B4455;\n",
              "      fill: #D2E3FC;\n",
              "    }\n",
              "\n",
              "    [theme=dark] .colab-df-convert:hover {\n",
              "      background-color: #434B5C;\n",
              "      box-shadow: 0px 1px 3px 1px rgba(0, 0, 0, 0.15);\n",
              "      filter: drop-shadow(0px 1px 2px rgba(0, 0, 0, 0.3));\n",
              "      fill: #FFFFFF;\n",
              "    }\n",
              "  </style>\n",
              "\n",
              "    <script>\n",
              "      const buttonEl =\n",
              "        document.querySelector('#df-1f6fda3f-99e1-47d0-b808-803e9c06c1d4 button.colab-df-convert');\n",
              "      buttonEl.style.display =\n",
              "        google.colab.kernel.accessAllowed ? 'block' : 'none';\n",
              "\n",
              "      async function convertToInteractive(key) {\n",
              "        const element = document.querySelector('#df-1f6fda3f-99e1-47d0-b808-803e9c06c1d4');\n",
              "        const dataTable =\n",
              "          await google.colab.kernel.invokeFunction('convertToInteractive',\n",
              "                                                    [key], {});\n",
              "        if (!dataTable) return;\n",
              "\n",
              "        const docLinkHtml = 'Like what you see? Visit the ' +\n",
              "          '<a target=\"_blank\" href=https://colab.research.google.com/notebooks/data_table.ipynb>data table notebook</a>'\n",
              "          + ' to learn more about interactive tables.';\n",
              "        element.innerHTML = '';\n",
              "        dataTable['output_type'] = 'display_data';\n",
              "        await google.colab.output.renderOutput(dataTable, element);\n",
              "        const docLink = document.createElement('div');\n",
              "        docLink.innerHTML = docLinkHtml;\n",
              "        element.appendChild(docLink);\n",
              "      }\n",
              "    </script>\n",
              "  </div>\n",
              "\n",
              "\n",
              "<div id=\"df-0b2b6ce5-4c1d-4d9c-8b8a-935bfe97782a\">\n",
              "  <button class=\"colab-df-quickchart\" onclick=\"quickchart('df-0b2b6ce5-4c1d-4d9c-8b8a-935bfe97782a')\"\n",
              "            title=\"Suggest charts\"\n",
              "            style=\"display:none;\">\n",
              "\n",
              "<svg xmlns=\"http://www.w3.org/2000/svg\" height=\"24px\"viewBox=\"0 0 24 24\"\n",
              "     width=\"24px\">\n",
              "    <g>\n",
              "        <path d=\"M19 3H5c-1.1 0-2 .9-2 2v14c0 1.1.9 2 2 2h14c1.1 0 2-.9 2-2V5c0-1.1-.9-2-2-2zM9 17H7v-7h2v7zm4 0h-2V7h2v10zm4 0h-2v-4h2v4z\"/>\n",
              "    </g>\n",
              "</svg>\n",
              "  </button>\n",
              "\n",
              "<style>\n",
              "  .colab-df-quickchart {\n",
              "      --bg-color: #E8F0FE;\n",
              "      --fill-color: #1967D2;\n",
              "      --hover-bg-color: #E2EBFA;\n",
              "      --hover-fill-color: #174EA6;\n",
              "      --disabled-fill-color: #AAA;\n",
              "      --disabled-bg-color: #DDD;\n",
              "  }\n",
              "\n",
              "  [theme=dark] .colab-df-quickchart {\n",
              "      --bg-color: #3B4455;\n",
              "      --fill-color: #D2E3FC;\n",
              "      --hover-bg-color: #434B5C;\n",
              "      --hover-fill-color: #FFFFFF;\n",
              "      --disabled-bg-color: #3B4455;\n",
              "      --disabled-fill-color: #666;\n",
              "  }\n",
              "\n",
              "  .colab-df-quickchart {\n",
              "    background-color: var(--bg-color);\n",
              "    border: none;\n",
              "    border-radius: 50%;\n",
              "    cursor: pointer;\n",
              "    display: none;\n",
              "    fill: var(--fill-color);\n",
              "    height: 32px;\n",
              "    padding: 0;\n",
              "    width: 32px;\n",
              "  }\n",
              "\n",
              "  .colab-df-quickchart:hover {\n",
              "    background-color: var(--hover-bg-color);\n",
              "    box-shadow: 0 1px 2px rgba(60, 64, 67, 0.3), 0 1px 3px 1px rgba(60, 64, 67, 0.15);\n",
              "    fill: var(--button-hover-fill-color);\n",
              "  }\n",
              "\n",
              "  .colab-df-quickchart-complete:disabled,\n",
              "  .colab-df-quickchart-complete:disabled:hover {\n",
              "    background-color: var(--disabled-bg-color);\n",
              "    fill: var(--disabled-fill-color);\n",
              "    box-shadow: none;\n",
              "  }\n",
              "\n",
              "  .colab-df-spinner {\n",
              "    border: 2px solid var(--fill-color);\n",
              "    border-color: transparent;\n",
              "    border-bottom-color: var(--fill-color);\n",
              "    animation:\n",
              "      spin 1s steps(1) infinite;\n",
              "  }\n",
              "\n",
              "  @keyframes spin {\n",
              "    0% {\n",
              "      border-color: transparent;\n",
              "      border-bottom-color: var(--fill-color);\n",
              "      border-left-color: var(--fill-color);\n",
              "    }\n",
              "    20% {\n",
              "      border-color: transparent;\n",
              "      border-left-color: var(--fill-color);\n",
              "      border-top-color: var(--fill-color);\n",
              "    }\n",
              "    30% {\n",
              "      border-color: transparent;\n",
              "      border-left-color: var(--fill-color);\n",
              "      border-top-color: var(--fill-color);\n",
              "      border-right-color: var(--fill-color);\n",
              "    }\n",
              "    40% {\n",
              "      border-color: transparent;\n",
              "      border-right-color: var(--fill-color);\n",
              "      border-top-color: var(--fill-color);\n",
              "    }\n",
              "    60% {\n",
              "      border-color: transparent;\n",
              "      border-right-color: var(--fill-color);\n",
              "    }\n",
              "    80% {\n",
              "      border-color: transparent;\n",
              "      border-right-color: var(--fill-color);\n",
              "      border-bottom-color: var(--fill-color);\n",
              "    }\n",
              "    90% {\n",
              "      border-color: transparent;\n",
              "      border-bottom-color: var(--fill-color);\n",
              "    }\n",
              "  }\n",
              "</style>\n",
              "\n",
              "  <script>\n",
              "    async function quickchart(key) {\n",
              "      const quickchartButtonEl =\n",
              "        document.querySelector('#' + key + ' button');\n",
              "      quickchartButtonEl.disabled = true;  // To prevent multiple clicks.\n",
              "      quickchartButtonEl.classList.add('colab-df-spinner');\n",
              "      try {\n",
              "        const charts = await google.colab.kernel.invokeFunction(\n",
              "            'suggestCharts', [key], {});\n",
              "      } catch (error) {\n",
              "        console.error('Error during call to suggestCharts:', error);\n",
              "      }\n",
              "      quickchartButtonEl.classList.remove('colab-df-spinner');\n",
              "      quickchartButtonEl.classList.add('colab-df-quickchart-complete');\n",
              "    }\n",
              "    (() => {\n",
              "      let quickchartButtonEl =\n",
              "        document.querySelector('#df-0b2b6ce5-4c1d-4d9c-8b8a-935bfe97782a button');\n",
              "      quickchartButtonEl.style.display =\n",
              "        google.colab.kernel.accessAllowed ? 'block' : 'none';\n",
              "    })();\n",
              "  </script>\n",
              "</div>\n",
              "\n",
              "    </div>\n",
              "  </div>\n"
            ],
            "application/vnd.google.colaboratory.intrinsic+json": {
              "type": "dataframe",
              "summary": "{\n  \"name\": \"temperature_df\",\n  \"rows\": 5,\n  \"fields\": [\n    {\n      \"column\": \"code\",\n      \"properties\": {\n        \"dtype\": \"string\",\n        \"num_unique_values\": 5,\n        \"samples\": [\n          \"IND.1156\",\n          \"IND.1159\",\n          \"IND.1157\"\n        ],\n        \"semantic_type\": \"\",\n        \"description\": \"\"\n      }\n    },\n    {\n      \"column\": \"name\",\n      \"properties\": {\n        \"dtype\": \"string\",\n        \"num_unique_values\": 5,\n        \"samples\": [\n          \"Chandigarh\",\n          \"Daman and Diu\",\n          \"Chhattisgarh\"\n        ],\n        \"semantic_type\": \"\",\n        \"description\": \"\"\n      }\n    },\n    {\n      \"column\": \"1991-01\",\n      \"properties\": {\n        \"dtype\": \"number\",\n        \"std\": 4.359034296722153,\n        \"min\": 12.24,\n        \"max\": 22.6,\n        \"num_unique_values\": 5,\n        \"samples\": [\n          12.24,\n          22.6,\n          19.22\n        ],\n        \"semantic_type\": \"\",\n        \"description\": \"\"\n      }\n    },\n    {\n      \"column\": \"1991-02\",\n      \"properties\": {\n        \"dtype\": \"number\",\n        \"std\": 3.3420278275322604,\n        \"min\": 15.86,\n        \"max\": 23.66,\n        \"num_unique_values\": 5,\n        \"samples\": [\n          15.86,\n          23.66,\n          22.63\n        ],\n        \"semantic_type\": \"\",\n        \"description\": \"\"\n      }\n    },\n    {\n      \"column\": \"1991-03\",\n      \"properties\": {\n        \"dtype\": \"number\",\n        \"std\": 2.4103983073342885,\n        \"min\": 21.11,\n        \"max\": 27.01,\n        \"num_unique_values\": 5,\n        \"samples\": [\n          21.11,\n          26.13,\n          27.01\n        ],\n        \"semantic_type\": \"\",\n        \"description\": \"\"\n      }\n    },\n    {\n      \"column\": \"1991-04\",\n      \"properties\": {\n        \"dtype\": \"number\",\n        \"std\": 1.3658806682869475,\n        \"min\": 27.57,\n        \"max\": 30.81,\n        \"num_unique_values\": 5,\n        \"samples\": [\n          27.57,\n          28.02,\n          30.81\n        ],\n        \"semantic_type\": \"\",\n        \"description\": \"\"\n      }\n    },\n    {\n      \"column\": \"1991-05\",\n      \"properties\": {\n        \"dtype\": \"number\",\n        \"std\": 1.5389866796044729,\n        \"min\": 29.06,\n        \"max\": 32.94,\n        \"num_unique_values\": 5,\n        \"samples\": [\n          31.46,\n          29.06,\n          32.94\n        ],\n        \"semantic_type\": \"\",\n        \"description\": \"\"\n      }\n    },\n    {\n      \"column\": \"1991-06\",\n      \"properties\": {\n        \"dtype\": \"number\",\n        \"std\": 1.4000535704036479,\n        \"min\": 28.4,\n        \"max\": 31.68,\n        \"num_unique_values\": 5,\n        \"samples\": [\n          31.68,\n          28.81,\n          29.8\n        ],\n        \"semantic_type\": \"\",\n        \"description\": \"\"\n      }\n    },\n    {\n      \"column\": \"1991-07\",\n      \"properties\": {\n        \"dtype\": \"number\",\n        \"std\": 1.4410863957445446,\n        \"min\": 26.56,\n        \"max\": 29.42,\n        \"num_unique_values\": 5,\n        \"samples\": [\n          29.42,\n          27.51,\n          26.56\n        ],\n        \"semantic_type\": \"\",\n        \"description\": \"\"\n      }\n    },\n    {\n      \"column\": \"1991-08\",\n      \"properties\": {\n        \"dtype\": \"number\",\n        \"std\": 1.415273825095342,\n        \"min\": 26.09,\n        \"max\": 29.23,\n        \"num_unique_values\": 5,\n        \"samples\": [\n          28.51,\n          26.95,\n          26.09\n        ],\n        \"semantic_type\": \"\",\n        \"description\": \"\"\n      }\n    },\n    {\n      \"column\": \"1991-09\",\n      \"properties\": {\n        \"dtype\": \"number\",\n        \"std\": 0.8424250708520015,\n        \"min\": 26.38,\n        \"max\": 28.54,\n        \"num_unique_values\": 5,\n        \"samples\": [\n          27.39,\n          27.42,\n          26.38\n        ],\n        \"semantic_type\": \"\",\n        \"description\": \"\"\n      }\n    },\n    {\n      \"column\": \"1991-10\",\n      \"properties\": {\n        \"dtype\": \"number\",\n        \"std\": 1.7162109427456764,\n        \"min\": 24.08,\n        \"max\": 28.35,\n        \"num_unique_values\": 5,\n        \"samples\": [\n          24.08,\n          28.35,\n          25.16\n        ],\n        \"semantic_type\": \"\",\n        \"description\": \"\"\n      }\n    },\n    {\n      \"column\": \"1991-11\",\n      \"properties\": {\n        \"dtype\": \"number\",\n        \"std\": 3.402333023088715,\n        \"min\": 18.44,\n        \"max\": 26.79,\n        \"num_unique_values\": 5,\n        \"samples\": [\n          18.44,\n          26.79,\n          22.03\n        ],\n        \"semantic_type\": \"\",\n        \"description\": \"\"\n      }\n    },\n    {\n      \"column\": \"1991-12\",\n      \"properties\": {\n        \"dtype\": \"number\",\n        \"std\": 4.333684344757934,\n        \"min\": 13.63,\n        \"max\": 24.12,\n        \"num_unique_values\": 5,\n        \"samples\": [\n          13.63,\n          24.12,\n          19.14\n        ],\n        \"semantic_type\": \"\",\n        \"description\": \"\"\n      }\n    }\n  ]\n}"
            }
          },
          "metadata": {},
          "execution_count": 93
        }
      ]
    },
    {
      "cell_type": "code",
      "source": [
        "# Identify monthly columns (1991-01 to 1991-12)\n",
        "monthly_cols = [col for col in temperature_df.columns if col.startswith('1991-')]\n",
        "\n",
        "# Calculate the annual average temperature per state by averaging the 12 monthly climatology values\n",
        "temperature_df['avg_temperature'] = temperature_df[monthly_cols].mean(axis=1)\n",
        "\n",
        "# Create a DataFrame with annual average temperature for each state and year (1991-2020)\n",
        "states = temperature_df['name'].unique()\n",
        "years = range(1991, 2021)  # 1991 to 2020\n",
        "annual_temp_df = pd.DataFrame([(state, year) for state in states for year in years],\n",
        "                              columns=['name', 'year'])\n",
        "annual_temp_df = annual_temp_df.merge(temperature_df[['name', 'avg_temperature']],\n",
        "                                      on='name', how='left')\n",
        "\n",
        "# For the prediction dataset, use the same average temperature\n",
        "historical_avg_temp = temperature_df[['name', 'avg_temperature']].copy()\n",
        "historical_avg_temp = historical_avg_temp.rename(columns={'avg_temperature': 'historical_avg_temperature'})"
      ],
      "metadata": {
        "id": "2JStgMqj6R6c"
      },
      "execution_count": 94,
      "outputs": []
    },
    {
      "cell_type": "code",
      "source": [
        "jan_2009_temp = temperature_df[['name', '1991-01']].rename(columns={'1991-01': 'jan_2009_temperature'})\n",
        "print(\"January 2009 Temperatures by State (using 1991-2020 climatology average for January):\")\n",
        "print(jan_2009_temp)"
      ],
      "metadata": {
        "colab": {
          "base_uri": "https://localhost:8080/"
        },
        "id": "BHUV9xnoEdZX",
        "outputId": "c9465a00-62e9-4528-e119-faa88094682d"
      },
      "execution_count": 95,
      "outputs": [
        {
          "output_type": "stream",
          "name": "stdout",
          "text": [
            "January 2009 Temperatures by State (using 1991-2020 climatology average for January):\n",
            "                           name  jan_2009_temperature\n",
            "0   Andaman and Nicobar Islands                 26.16\n",
            "1                         Delhi                 13.24\n",
            "2                           Goa                 24.41\n",
            "3                       Gujarat                 20.13\n",
            "4                       Haryana                 12.91\n",
            "5              Himachal Pradesh                 -6.88\n",
            "6             Jammu and Kashmir                -15.21\n",
            "7                     Jharkhand                 16.20\n",
            "8                     Karnataka                 23.16\n",
            "9                        Kerala                 25.43\n",
            "10                  Lakshadweep                 26.84\n",
            "11               Andhra Pradesh                 23.47\n",
            "12               Madhya Pradesh                 17.20\n",
            "13                  Maharashtra                 21.63\n",
            "14                      Manipur                 13.10\n",
            "15                    Meghalaya                 14.40\n",
            "16                      Mizoram                 15.24\n",
            "17                     Nagaland                 12.56\n",
            "18                       Odisha                 20.27\n",
            "19                   Puducherry                 25.02\n",
            "20                       Punjab                 11.98\n",
            "21                    Rajasthan                 15.61\n",
            "22            Arunachal Pradesh                 11.32\n",
            "23                       Sikkim                 -2.30\n",
            "24                   Tamil Nadu                 24.40\n",
            "25                    Telangana                 22.95\n",
            "26                      Tripura                 17.79\n",
            "27                Uttar Pradesh                 14.46\n",
            "28                  Uttarakhand                  2.36\n",
            "29                  West Bengal                 17.47\n",
            "30                        Assam                 16.25\n",
            "31                        Bihar                 15.78\n",
            "32                   Chandigarh                 12.24\n",
            "33                 Chhattisgarh                 19.22\n",
            "34       Dadra and Nagar Haveli                 21.99\n",
            "35                Daman and Diu                 22.60\n"
          ]
        }
      ]
    },
    {
      "cell_type": "code",
      "source": [
        "# Filter for Indian data and drop unnecessary columns\n",
        "india_influenza_df = influenza_weekly_df[influenza_weekly_df['Country'] == 'India'].copy()\n",
        "india_influenza_df = india_influenza_df.drop(columns=['ALL_INF2'], errors='ignore')\n",
        "\n",
        "# Identify outbreak rows based on the 'title' column (assuming 'Outbreak' indicates an outbreak)\n",
        "india_influenza_df['is_outbreak'] = india_influenza_df['TITLE'].str.contains('Outbreak', case=False, na=False)\n",
        "\n",
        "# Sum cases for outbreak years,\n",
        "#  focusing on 2009 and 2010\n",
        "outbreak_cases_2009_2010 = india_influenza_df[\n",
        "    (india_influenza_df['is_outbreak']) &\n",
        "    (india_influenza_df['Year'].isin([2009, 2010]))\n",
        "]['ALL_INF'].sum()\n",
        "print(f\"Total Influenza Cases in India during 2009-2010 Outbreaks: {outbreak_cases_2009_2010}\")"
      ],
      "metadata": {
        "colab": {
          "base_uri": "https://localhost:8080/"
        },
        "id": "1mUyEtXtFv2r",
        "outputId": "61e14e64-4281-434a-c638-113e1f4a550e"
      },
      "execution_count": 96,
      "outputs": [
        {
          "output_type": "stream",
          "name": "stdout",
          "text": [
            "Total Influenza Cases in India during 2009-2010 Outbreaks: 9760\n"
          ]
        }
      ]
    },
    {
      "cell_type": "code",
      "source": [
        "# Aggregate total cases annually for all years\n",
        "annual_influenza_df = india_influenza_df.groupby('Year')['ALL_INF'].sum().reset_index()\n",
        "annual_influenza_df = annual_influenza_df.rename(columns={'ALL_INF': 'annual_influenza_cases'})"
      ],
      "metadata": {
        "id": "7Vp1OX0rMHcE"
      },
      "execution_count": 97,
      "outputs": []
    },
    {
      "cell_type": "code",
      "source": [
        "# --- Process Pig Vaccination ---\n",
        "pig_vaccination_df = pig_vaccination_df[['State/ UT', 'Number of Animal Vaccinated']]\n",
        "pig_vaccination_df = pig_vaccination_df.rename(columns={\n",
        "    'State/ UT': 'name',\n",
        "    'Number of Animal Vaccinated': 'pig_vaccinated'\n",
        "})\n",
        "# --- Process Poultry Deaths ---\n",
        "poultry_years = ['2018', '2019', '2020', '2021', '2022']\n",
        "poultry_deaths_df = poultry_deaths_df.rename(columns={'State': 'name'})\n",
        "for year in poultry_years:\n",
        "    poultry_deaths_df[f'poultry_loss_{year}'] = poultry_deaths_df[f'{year} - Died'] + poultry_deaths_df[f'{year} - Culled']\n",
        "poultry_loss_df = poultry_deaths_df.melt(id_vars=['name'],\n",
        "                                         value_vars=[f'poultry_loss_{year}' for year in poultry_years],\n",
        "                                         var_name='year', value_name='poultry_loss')\n",
        "poultry_loss_df['year'] = poultry_loss_df['year'].str[-4:].astype(int)"
      ],
      "metadata": {
        "id": "TB8xYlXpG33Q"
      },
      "execution_count": 98,
      "outputs": []
    },
    {
      "cell_type": "markdown",
      "source": [
        "# Creating our training dataset"
      ],
      "metadata": {
        "id": "Bly2i85rMTk5"
      }
    },
    {
      "cell_type": "code",
      "source": [
        "# --- Create Training Dataset (1991-2020) ---\n",
        "states = temperature_df['name'].unique()\n",
        "years = range(1991, 2021)\n",
        "base_df = pd.DataFrame([(state, year) for state in states for year in years], columns=['name', 'year'])"
      ],
      "metadata": {
        "id": "D8js--54MQ7N"
      },
      "execution_count": 99,
      "outputs": []
    },
    {
      "cell_type": "code",
      "source": [
        "# Rename population density columns\n",
        "pop_density_columns = {f\"{year}-07\": f\"pop_density_{year}\" for year in range(2010, 2101, 10)}\n",
        "state_pop_density_df = state_pop_density_df.rename(columns=pop_density_columns)"
      ],
      "metadata": {
        "id": "9VeTeHFzQUD9"
      },
      "execution_count": 100,
      "outputs": []
    },
    {
      "cell_type": "code",
      "source": [
        "def calculate_pop_density(row, year):\n",
        "    # Define the available years\n",
        "    density_years = list(range(2010, 2101, 10))  # [2010, 2020, 2030, ..., 2100]\n",
        "\n",
        "    # If year is before 2010, use 2010 density\n",
        "    if year <= 2010:\n",
        "        return row['pop_density_2010']\n",
        "\n",
        "    # If year is after 2100, use 2100 density\n",
        "    if year >= 2100:\n",
        "        return row['pop_density_2100']\n",
        "\n",
        "    # Find the two closest years for interpolation\n",
        "    for i in range(len(density_years) - 1):\n",
        "        start_year = density_years[i]\n",
        "        end_year = density_years[i + 1]\n",
        "        if start_year <= year < end_year:\n",
        "            start_density = row[f'pop_density_{start_year}']\n",
        "            end_density = row[f'pop_density_{end_year}']\n",
        "            # Linear interpolation\n",
        "            fraction = (year - start_year) / (end_year - start_year)\n",
        "            return start_density + (end_density - start_density) * fraction\n",
        "\n",
        "    # This line should never be reached given the conditions above\n",
        "    return row['pop_density_2010']"
      ],
      "metadata": {
        "id": "QcHim2wqQlx3"
      },
      "execution_count": 101,
      "outputs": []
    },
    {
      "cell_type": "code",
      "source": [
        "# Create a DataFrame with state names and areas\n",
        "area_data = {\n",
        "    'name': [\n",
        "        'Andaman and Nicobar Islands', 'Delhi', 'Goa', 'Gujarat',\n",
        "        'Haryana', 'Himachal Pradesh', 'Jammu and Kashmir', 'Jharkhand',\n",
        "        'Karnataka', 'Kerala', 'Lakshadweep', 'Andhra Pradesh',\n",
        "        'Madhya Pradesh', 'Maharashtra', 'Manipur', 'Meghalaya', 'Mizoram',\n",
        "        'Nagaland', 'Odisha', 'Puducherry', 'Punjab', 'Rajasthan',\n",
        "        'Arunachal Pradesh', 'Sikkim', 'Tamil Nadu', 'Telangana',\n",
        "        'Tripura', 'Uttar Pradesh', 'Uttarakhand', 'West Bengal', 'Assam',\n",
        "        'Bihar', 'Chandigarh', 'Chhattisgarh', 'Dadra and Nagar Haveli',\n",
        "        'Daman and Diu'\n",
        "    ],\n",
        "    'area': [\n",
        "        8249, 1483, 3702, 196024, 44212, 55673, 222236, 79714, 191791, 38863,\n",
        "        32, 162968, 308245, 307713, 22327, 22429, 21081, 16579, 155707, 479,\n",
        "        50362, 342239, 83743, 7096, 130058, 112077, 10486, 243286, 53483,\n",
        "        88752, 78438, 94163, 114, 135191, 491, 112\n",
        "    ]\n",
        "}\n",
        "\n",
        "area_df = pd.DataFrame(area_data)\n",
        "\n",
        "# Check for duplicates in state_pop_density_df\n",
        "duplicates = state_pop_density_df[state_pop_density_df.duplicated(subset=['name'], keep=False)]\n",
        "if not duplicates.empty:\n",
        "    print(\"Warning: Duplicate state names found in state_pop_density_df:\")\n",
        "    print(duplicates[['name']])\n",
        "    # Keep the first occurrence of each state\n",
        "    state_pop_density_df = state_pop_density_df.drop_duplicates(subset=['name'], keep='first')\n",
        "\n",
        "# Reset the index to avoid duplicate labels\n",
        "state_pop_density_df = state_pop_density_df.reset_index(drop=True)\n",
        "\n",
        "# Merge the area data into state_pop_density_df\n",
        "state_pop_density_df = state_pop_density_df.merge(area_df, on='name', how='left')\n",
        "\n",
        "# Drop area_x and area_y if they exist, and rename the area column from area_df\n",
        "if 'area_x' in state_pop_density_df.columns and 'area_y' in state_pop_density_df.columns:\n",
        "    # Keep the manually inputted area (area_y) and drop the calculated area (area_x)\n",
        "    state_pop_density_df = state_pop_density_df.drop(columns=['area_x'])\n",
        "    state_pop_density_df = state_pop_density_df.rename(columns={'area_y': 'area'})\n",
        "elif 'area' in state_pop_density_df.columns:\n",
        "    # If only the original area exists (no conflict), drop it and keep the new area\n",
        "    state_pop_density_df = state_pop_density_df.drop(columns=['area'], errors='ignore')\n",
        "    state_pop_density_df = state_pop_density_df.rename(columns={'area_y': 'area'})\n",
        "else:\n",
        "    # If no area_x or area_y, just rename area_y to area\n",
        "    state_pop_density_df = state_pop_density_df.rename(columns={'area_y': 'area'})\n",
        "\n",
        "# Reset the index again after the merge to ensure no duplicate labels\n",
        "state_pop_density_df = state_pop_density_df.reset_index(drop=True)\n",
        "\n",
        "# Check for any missing areas\n",
        "missing_areas = state_pop_density_df[state_pop_density_df['area'].isna()]\n",
        "if not missing_areas.empty:\n",
        "    print(\"Warning: The following states have missing area data:\")\n",
        "    print(missing_areas[['name']])\n",
        "\n",
        "# Verify the columns in state_pop_density_df\n",
        "print(\"Columns in state_pop_density_df after merge:\")\n",
        "print(state_pop_density_df.columns)\n"
      ],
      "metadata": {
        "colab": {
          "base_uri": "https://localhost:8080/"
        },
        "id": "GdqgaF3FTxuD",
        "outputId": "a75c59cc-8982-42b6-a9a6-a16009ee8ae9"
      },
      "execution_count": 102,
      "outputs": [
        {
          "output_type": "stream",
          "name": "stdout",
          "text": [
            "Columns in state_pop_density_df after merge:\n",
            "Index(['code', 'name', 'pop_density_2010', 'pop_density_2020',\n",
            "       'pop_density_2030', 'pop_density_2040', 'pop_density_2050',\n",
            "       'pop_density_2060', 'pop_density_2070', 'pop_density_2080',\n",
            "       'pop_density_2090', 'pop_density_2100', 'population_2011', 'area'],\n",
            "      dtype='object')\n"
          ]
        }
      ]
    },
    {
      "cell_type": "code",
      "source": [
        "# Merge features into base_df\n",
        "base_df = base_df.merge(annual_temp_df, on=['name', 'year'], how='left')\n",
        "base_df = base_df.merge(state_pop_density_df[['name', 'area'] + [f'pop_density_{year}' for year in range(2010, 2101, 10)]],\n",
        "                        on='name', how='left')\n",
        "base_df['pop_density'] = base_df.apply(lambda row: calculate_pop_density(row, row['year']), axis=1)\n",
        "base_df['total_population'] = base_df['pop_density'] * base_df['area']"
      ],
      "metadata": {
        "id": "au312yElOaq2"
      },
      "execution_count": 103,
      "outputs": []
    },
    {
      "cell_type": "code",
      "source": [
        "base_df['state_total_population'] = base_df['total_population']\n",
        "base_df['state_pop_density'] = base_df['pop_density']"
      ],
      "metadata": {
        "id": "wgrUANVyYOa_"
      },
      "execution_count": 104,
      "outputs": []
    },
    {
      "cell_type": "code",
      "source": [
        "# Extract state population for 2009 and 2010\n",
        "state_pop_2009 = base_df[base_df['year'] == 2009][['name', 'total_population']]\n",
        "state_pop_2010 = base_df[base_df['year'] == 2010][['name', 'total_population']]\n",
        "state_pop_2009_2010 = base_df[base_df['year'].isin([2009, 2010])].groupby('name')['total_population'].mean().reset_index()\n",
        "state_pop_2009_2010 = state_pop_2009_2010.rename(columns={'total_population': 'avg_population_2009_2010'})\n",
        "print(\"\\nAverage State Population for 2009-2010:\")\n",
        "print(state_pop_2009_2010.sort_values(by='name'))"
      ],
      "metadata": {
        "colab": {
          "base_uri": "https://localhost:8080/"
        },
        "id": "6pNCFFOdZS5F",
        "outputId": "77c22b46-c22f-4ec4-e79b-33a36310aa3b"
      },
      "execution_count": 105,
      "outputs": [
        {
          "output_type": "stream",
          "name": "stdout",
          "text": [
            "\n",
            "Average State Population for 2009-2010:\n",
            "                           name  avg_population_2009_2010\n",
            "0   Andaman and Nicobar Islands              1.047376e+05\n",
            "1                Andhra Pradesh              4.765266e+07\n",
            "2             Arunachal Pradesh              3.982817e+06\n",
            "3                         Assam              2.344386e+07\n",
            "4                         Bihar              9.722829e+07\n",
            "5                    Chandigarh              2.780004e+04\n",
            "6                  Chhattisgarh              2.815082e+07\n",
            "7        Dadra and Nagar Haveli              1.909460e+05\n",
            "8                 Daman and Diu              3.639910e+04\n",
            "9                         Delhi              1.377663e+06\n",
            "10                          Goa              5.239959e+05\n",
            "11                      Gujarat              5.484007e+07\n",
            "12                      Haryana              2.327974e+07\n",
            "13             Himachal Pradesh              5.854127e+06\n",
            "14            Jammu and Kashmir              3.497328e+07\n",
            "15                    Jharkhand              3.453497e+07\n",
            "16                    Karnataka              5.776764e+07\n",
            "17                       Kerala              3.106642e+07\n",
            "18                  Lakshadweep                       NaN\n",
            "19               Madhya Pradesh              7.816908e+07\n",
            "20                  Maharashtra              1.292124e+08\n",
            "21                      Manipur              2.587498e+06\n",
            "22                    Meghalaya              1.177038e+07\n",
            "23                      Mizoram              1.213992e+06\n",
            "24                     Nagaland              2.952786e+06\n",
            "25                       Odisha              3.498892e+07\n",
            "26                   Puducherry              3.542540e+04\n",
            "27                       Punjab              3.190181e+07\n",
            "28                    Rajasthan              7.188183e+07\n",
            "29                       Sikkim              5.766990e+05\n",
            "30                   Tamil Nadu              8.033227e+07\n",
            "31                    Telangana              2.551993e+07\n",
            "32                      Tripura              6.847819e+06\n",
            "33                Uttar Pradesh              1.801577e+08\n",
            "34                  Uttarakhand              1.277682e+07\n",
            "35                  West Bengal              6.898045e+07\n"
          ]
        }
      ]
    },
    {
      "cell_type": "code",
      "source": [
        "# Compute average pop_density for 2009-2010 per state\n",
        "state_pop_density_2009_2010 = base_df[base_df['year'].isin([2009, 2010])].groupby('name')['pop_density'].mean().reset_index()\n",
        "state_pop_density_2009_2010 = state_pop_density_2009_2010.rename(columns={'pop_density': 'avg_pop_density_2009_2010'})\n",
        "\n",
        "# Merge with state population\n",
        "state_data_2009_2010 = state_pop_2009_2010.merge(state_pop_density_2009_2010, on='name', how='left')\n",
        "state_data_2009_2010['pop_density_factor'] = state_data_2009_2010['avg_pop_density_2009_2010'] / state_data_2009_2010['avg_pop_density_2009_2010'].max()\n",
        "\n",
        "# Use pop_density_factor as the risk weight (normalize to sum to 1)\n",
        "state_data_2009_2010['risk_weight'] = state_data_2009_2010['pop_density_factor'] / state_data_2009_2010['pop_density_factor'].sum()\n",
        "\n",
        "# Distribute outbreak_cases_2009_2010 to states based on risk_weight\n",
        "state_data_2009_2010['estimated_cases_2009_2010'] = outbreak_cases_2009_2010 * state_data_2009_2010['risk_weight']\n",
        "state_data_2009_2010['threshold_ratio_2009_2010'] = state_data_2009_2010['estimated_cases_2009_2010'] / state_data_2009_2010['avg_population_2009_2010']\n",
        "\n",
        "# Print the new thresholds\n",
        "print(\"\\nState-Specific Case-to-Population Ratio Thresholds for 2009-2010 (Based on Population Density):\")\n",
        "print(state_data_2009_2010[['name', 'threshold_ratio_2009_2010']].sort_values(by='name'))"
      ],
      "metadata": {
        "colab": {
          "base_uri": "https://localhost:8080/"
        },
        "id": "Q2OO5ksNuU5q",
        "outputId": "9c43f586-b4b6-4af2-8670-f4421a8e9732"
      },
      "execution_count": 106,
      "outputs": [
        {
          "output_type": "stream",
          "name": "stdout",
          "text": [
            "\n",
            "State-Specific Case-to-Population Ratio Thresholds for 2009-2010 (Based on Population Density):\n",
            "                           name  threshold_ratio_2009_2010\n",
            "0   Andaman and Nicobar Islands                   0.000094\n",
            "1                Andhra Pradesh                   0.000005\n",
            "2             Arunachal Pradesh                   0.000009\n",
            "3                         Assam                   0.000010\n",
            "4                         Bihar                   0.000008\n",
            "5                    Chandigarh                   0.006821\n",
            "6                  Chhattisgarh                   0.000006\n",
            "7        Dadra and Nagar Haveli                   0.001584\n",
            "8                 Daman and Diu                   0.006943\n",
            "9                         Delhi                   0.000524\n",
            "10                          Goa                   0.000210\n",
            "11                      Gujarat                   0.000004\n",
            "12                      Haryana                   0.000018\n",
            "13             Himachal Pradesh                   0.000014\n",
            "14            Jammu and Kashmir                   0.000003\n",
            "15                    Jharkhand                   0.000010\n",
            "16                    Karnataka                   0.000004\n",
            "17                       Kerala                   0.000020\n",
            "18                  Lakshadweep                        NaN\n",
            "19               Madhya Pradesh                   0.000003\n",
            "20                  Maharashtra                   0.000003\n",
            "21                      Manipur                   0.000035\n",
            "22                    Meghalaya                   0.000035\n",
            "23                      Mizoram                   0.000037\n",
            "24                     Nagaland                   0.000047\n",
            "25                       Odisha                   0.000005\n",
            "26                   Puducherry                   0.001623\n",
            "27                       Punjab                   0.000015\n",
            "28                    Rajasthan                   0.000002\n",
            "29                       Sikkim                   0.000110\n",
            "30                   Tamil Nadu                   0.000006\n",
            "31                    Telangana                   0.000007\n",
            "32                      Tripura                   0.000074\n",
            "33                Uttar Pradesh                   0.000003\n",
            "34                  Uttarakhand                   0.000015\n",
            "35                  West Bengal                   0.000009\n"
          ]
        }
      ]
    },
    {
      "cell_type": "code",
      "source": [
        "# Normalize pop_density\n",
        "base_df['pop_density_factor'] = base_df['pop_density'] / base_df['pop_density'].max()\n",
        "\n",
        "# Compute the total risk per year (sum of pop_density_factor for all states in each year)\n",
        "total_risk_per_year = base_df.groupby('year')['pop_density_factor'].sum().reset_index()\n",
        "total_risk_per_year.rename(columns={'pop_density_factor': 'total_risk'}, inplace=True)\n",
        "\n",
        "# Merge total_risk into base_df\n",
        "base_df = base_df.merge(total_risk_per_year, on='year', how='left')\n",
        "\n",
        "# Compute risk weight per state\n",
        "base_df['risk_weight'] = base_df['pop_density_factor'] / base_df['total_risk']\n",
        "\n",
        "# Compute the average pop_density_factor for 2009-2010 per state\n",
        "avg_pop_density_factor_2009_2010 = (\n",
        "    base_df[base_df['year'].isin([2009, 2010])]\n",
        "    .groupby('name')['pop_density_factor']\n",
        "    .mean()\n",
        "    .reset_index()\n",
        "    .rename(columns={'pop_density_factor': 'avg_pop_density_factor_2009_2010'})\n",
        ")\n",
        "\n",
        "# Merge avg_pop_density_factor_2009_2010 into base_df\n",
        "base_df = base_df.merge(avg_pop_density_factor_2009_2010, on='name', how='left')\n",
        "\n",
        "# Compute the pop_density scaling factor\n",
        "base_df['pop_density_scaling_factor'] = (\n",
        "    base_df['pop_density_factor'] / base_df['avg_pop_density_factor_2009_2010']\n",
        ").fillna(1.0)  # Default to 1 if no historical data is available\n",
        "\n",
        "# Merge estimated cases from state_data_2009_2010\n",
        "if 'state_data_2009_2010' in globals():  # Ensure the dataset exists\n",
        "    base_df = base_df.merge(\n",
        "        state_data_2009_2010[['name', 'estimated_cases_2009_2010']],\n",
        "        on='name',\n",
        "        how='left'\n",
        "    )\n",
        "\n",
        "# Estimate state-level cases per year using the scaling factor\n",
        "base_df['estimated_cases'] = (\n",
        "    base_df['estimated_cases_2009_2010'] * base_df['pop_density_scaling_factor']\n",
        ").fillna(0)\n",
        "\n",
        "# Update allocated_cases based on estimated_cases\n",
        "base_df['allocated_cases'] = base_df['estimated_cases']\n",
        "\n",
        "# Handle missing risk_weight values\n",
        "if 'risk_weight_2009_2010' in base_df.columns:\n",
        "    base_df['risk_weight'] = base_df['risk_weight'].combine_first(base_df['risk_weight_2009_2010'])\n",
        "    base_df.drop(columns=['risk_weight_2009_2010'], inplace=True)\n",
        "\n",
        "# Ensure outbreak_cases_2009_2010 exists before using it\n",
        "if 'outbreak_cases_2009_2010' in globals() and 'case_scaling_factor' in base_df.columns:\n",
        "    base_df['estimated_cases'] = (\n",
        "        outbreak_cases_2009_2010 * base_df['risk_weight'] * base_df['case_scaling_factor']\n",
        "    ).fillna(0)\n"
      ],
      "metadata": {
        "id": "wGoc5tdatw9j"
      },
      "execution_count": 107,
      "outputs": []
    },
    {
      "cell_type": "code",
      "source": [
        "base_df['allocated_cases'] = base_df['estimated_cases']"
      ],
      "metadata": {
        "id": "E8NTlkOvzkkD"
      },
      "execution_count": 108,
      "outputs": []
    },
    {
      "cell_type": "code",
      "source": [
        "# Merge static pig vaccination data\n",
        "base_df = base_df.merge(pig_vaccination_df, on='name', how='left')\n",
        "\n",
        "# Merge poultry loss, using average of 2018-2020 for years before 2018\n",
        "base_df = base_df.merge(poultry_loss_df, on=['name', 'year'], how='left')\n",
        "avg_poultry_loss = poultry_loss_df[poultry_loss_df['year'].between(2018, 2020)]\\\n",
        "                    .groupby('name')['poultry_loss'].mean().reset_index()\n",
        "avg_poultry_loss = avg_poultry_loss.rename(columns={'poultry_loss': 'avg_poultry_loss'})\n",
        "base_df = base_df.merge(avg_poultry_loss, on='name', how='left')\n",
        "base_df['poultry_loss'] = base_df['poultry_loss'].fillna(base_df['avg_poultry_loss'])\n",
        "base_df = base_df.drop(columns=['avg_poultry_loss'])"
      ],
      "metadata": {
        "id": "Ri7PNRH7aqbP"
      },
      "execution_count": 109,
      "outputs": []
    },
    {
      "cell_type": "code",
      "source": [
        "base_df.state_total_population.describe()\n"
      ],
      "metadata": {
        "colab": {
          "base_uri": "https://localhost:8080/",
          "height": 335
        },
        "id": "y9UKLDpYE1r4",
        "outputId": "978706de-c634-4a56-8ead-440361c8344e"
      },
      "execution_count": 110,
      "outputs": [
        {
          "output_type": "execute_result",
          "data": {
            "text/plain": [
              "count    1.050000e+03\n",
              "mean     3.469609e+07\n",
              "std      4.187381e+07\n",
              "min      2.780004e+04\n",
              "25%      1.437381e+06\n",
              "50%      2.432354e+07\n",
              "75%      5.484007e+07\n",
              "max      2.053803e+08\n",
              "Name: state_total_population, dtype: float64"
            ],
            "text/html": [
              "<div>\n",
              "<style scoped>\n",
              "    .dataframe tbody tr th:only-of-type {\n",
              "        vertical-align: middle;\n",
              "    }\n",
              "\n",
              "    .dataframe tbody tr th {\n",
              "        vertical-align: top;\n",
              "    }\n",
              "\n",
              "    .dataframe thead th {\n",
              "        text-align: right;\n",
              "    }\n",
              "</style>\n",
              "<table border=\"1\" class=\"dataframe\">\n",
              "  <thead>\n",
              "    <tr style=\"text-align: right;\">\n",
              "      <th></th>\n",
              "      <th>state_total_population</th>\n",
              "    </tr>\n",
              "  </thead>\n",
              "  <tbody>\n",
              "    <tr>\n",
              "      <th>count</th>\n",
              "      <td>1.050000e+03</td>\n",
              "    </tr>\n",
              "    <tr>\n",
              "      <th>mean</th>\n",
              "      <td>3.469609e+07</td>\n",
              "    </tr>\n",
              "    <tr>\n",
              "      <th>std</th>\n",
              "      <td>4.187381e+07</td>\n",
              "    </tr>\n",
              "    <tr>\n",
              "      <th>min</th>\n",
              "      <td>2.780004e+04</td>\n",
              "    </tr>\n",
              "    <tr>\n",
              "      <th>25%</th>\n",
              "      <td>1.437381e+06</td>\n",
              "    </tr>\n",
              "    <tr>\n",
              "      <th>50%</th>\n",
              "      <td>2.432354e+07</td>\n",
              "    </tr>\n",
              "    <tr>\n",
              "      <th>75%</th>\n",
              "      <td>5.484007e+07</td>\n",
              "    </tr>\n",
              "    <tr>\n",
              "      <th>max</th>\n",
              "      <td>2.053803e+08</td>\n",
              "    </tr>\n",
              "  </tbody>\n",
              "</table>\n",
              "</div><br><label><b>dtype:</b> float64</label>"
            ]
          },
          "metadata": {},
          "execution_count": 110
        }
      ]
    },
    {
      "cell_type": "code",
      "source": [
        "# Normalize pig vaccination and poultry deaths (per capita)\n",
        "base_df['pig_vaccination_rate'] = base_df['pig_vaccinated'] / base_df['state_total_population']\n",
        "base_df['poultry_loss_rate'] = base_df['poultry_loss'] / base_df['state_total_population']\n",
        "base_df['poultry_loss_rate_lag'] = base_df.groupby('name')['poultry_loss_rate'].shift(1)\n",
        "# correlation_matrix = base_df[['allocated_cases', 'pig_vaccination_rate', 'poultry_loss_rate_lag']].corr(method='spearman')\n",
        "# print(correlation_matrix)\n",
        "\n",
        "# Analyze correlation with influenza cases\n",
        "correlation_df = base_df[['allocated_cases', 'avg_temperature', 'state_total_population', 'pig_vaccinated','poultry_loss']].dropna()\n",
        "correlation_matrix = correlation_df.corr(method='spearman')\n",
        "print(\"Correlation Matrix \")\n",
        "print(correlation_matrix)"
      ],
      "metadata": {
        "colab": {
          "base_uri": "https://localhost:8080/"
        },
        "id": "IvMIpyXSb9FA",
        "outputId": "286ae52d-a305-4c23-ad5d-a65ef4dc6473"
      },
      "execution_count": 112,
      "outputs": [
        {
          "output_type": "stream",
          "name": "stdout",
          "text": [
            "Correlation Matrix \n",
            "                        allocated_cases  avg_temperature  \\\n",
            "allocated_cases                1.000000        -0.465255   \n",
            "avg_temperature               -0.465255         1.000000   \n",
            "state_total_population         0.652364         0.021667   \n",
            "pig_vaccinated                -0.195399        -0.250000   \n",
            "poultry_loss                  -0.204011         0.215406   \n",
            "\n",
            "                        state_total_population  pig_vaccinated  poultry_loss  \n",
            "allocated_cases                       0.652364       -0.195399     -0.204011  \n",
            "avg_temperature                       0.021667       -0.250000      0.215406  \n",
            "state_total_population                1.000000       -0.141270     -0.096313  \n",
            "pig_vaccinated                       -0.141270        1.000000     -0.042525  \n",
            "poultry_loss                         -0.096313       -0.042525      1.000000  \n"
          ]
        }
      ]
    },
    {
      "cell_type": "code",
      "source": [
        "# Remove national columns from base_df\n",
        "base_df = base_df.drop(columns=['national_population', 'national_pop_density', 'national_area', 'annual_influenza_cases'], errors='ignore')\n",
        "\n",
        "# Update monthly_df (remove national data and update allocated cases)\n",
        "# --- Expand base_df to Monthly Frequency ---\n",
        "states = base_df['name'].unique()\n",
        "years = base_df['year'].unique()\n",
        "months = range(1, 13)  # Months 1 to 12\n",
        "\n",
        "# Create a MultiIndex with all combinations of name, year, and month\n",
        "index = pd.MultiIndex.from_product([states, years, months], names=['name', 'year', 'month'])\n",
        "monthly_df = pd.DataFrame(index=index).reset_index()\n",
        "\n",
        "# Merge all annual data from base_df into monthly_df (excluding national data)\n",
        "annual_columns = [\n",
        "    'pop_density', 'avg_temperature', 'pig_vaccinated', 'poultry_loss',\n",
        "    'pig_vaccination_rate', 'poultry_loss_rate', 'area', 'total_population',\n",
        "    'allocated_cases'\n",
        "]\n",
        "monthly_df = monthly_df.merge(\n",
        "    base_df[['name', 'year'] + annual_columns],\n",
        "    on=['name', 'year'],\n",
        "    how='left'\n",
        ")"
      ],
      "metadata": {
        "id": "4If-Bg3La8uo"
      },
      "execution_count": 113,
      "outputs": []
    },
    {
      "cell_type": "code",
      "source": [
        "# --- Add Monthly Temperature Data ---\n",
        "monthly_temp_cols = [f'1991-{str(m).zfill(2)}' for m in range(1, 13)]\n",
        "temperature_melted = temperature_df.melt(\n",
        "    id_vars=['name'],\n",
        "    value_vars=monthly_temp_cols,\n",
        "    var_name='month_str',\n",
        "    value_name='monthly_temperature'\n",
        ")\n",
        "temperature_melted['month'] = temperature_melted['month_str'].str[-2:].astype(int)\n",
        "temperature_melted = temperature_melted.drop(columns=['month_str'])\n",
        "\n",
        "# Merge monthly temperature into monthly_df\n",
        "monthly_df = monthly_df.merge(\n",
        "    temperature_melted,\n",
        "    on=['name', 'month'],\n",
        "    how='left'\n",
        ")\n",
        "\n",
        "# --- Distribute Annual Allocated Cases to Monthly ---\n",
        "monthly_df['monthly_allocated_cases'] = monthly_df['allocated_cases'] / 12\n",
        "monthly_df['monthly_case_to_pop_ratio'] = monthly_df['monthly_allocated_cases'] / monthly_df['total_population']\n",
        "\n",
        "# --- Add total_state_population ---\n",
        "monthly_df = monthly_df.merge(\n",
        "    base_df[['name', 'year', 'state_total_population']],\n",
        "    on=['name', 'year'],\n",
        "    how='left'\n",
        ")\n",
        "\n",
        "# --- Define High-Risk State ---\n",
        "# Step 1: Label all state-months in 2009-2010 as high-risk (1)\n",
        "monthly_df['high_risk_state'] = ((monthly_df['year'] == 2009) | (monthly_df['year'] == 2010)).astype(int)\n",
        "\n",
        "# Step 2: Simulate high-risk scenarios in other years\n",
        "# Select 5% of state-months outside 2009-2010 randomly\n",
        "non_pandemic_df = monthly_df[(monthly_df['year'] != 2009) & (monthly_df['year'] != 2010)]\n",
        "simulated_high_risk_indices = non_pandemic_df.sample(frac=0.05, random_state=42).index\n",
        "\n",
        "# Compute the average allocated_cases during 2009-2010 per state\n",
        "avg_allocated_cases_2009_2010 = monthly_df[\n",
        "    monthly_df['high_risk_state'] == 1\n",
        "].groupby('name')['allocated_cases'].mean().reset_index()\n",
        "avg_allocated_cases_2009_2010 = avg_allocated_cases_2009_2010.rename(\n",
        "    columns={'allocated_cases': 'avg_allocated_cases_2009_2010'}\n",
        ")\n",
        "\n",
        "# Merge this into monthly_df\n",
        "monthly_df = monthly_df.merge(avg_allocated_cases_2009_2010, on='name', how='left')\n",
        "\n",
        "# For simulated high-risk state-months, scale allocated_cases to 2009-2010 levels\n",
        "monthly_df.loc[simulated_high_risk_indices, 'allocated_cases'] = monthly_df.loc[\n",
        "    simulated_high_risk_indices, 'avg_allocated_cases_2009_2010'\n",
        "]\n",
        "\n",
        "# Update monthly_allocated_cases and monthly_case_to_pop_ratio for simulated high-risk state-months\n",
        "monthly_df.loc[simulated_high_risk_indices, 'monthly_allocated_cases'] = (\n",
        "    monthly_df.loc[simulated_high_risk_indices, 'allocated_cases'] / 12\n",
        ")\n",
        "monthly_df.loc[simulated_high_risk_indices, 'monthly_case_to_pop_ratio'] = (\n",
        "    monthly_df.loc[simulated_high_risk_indices, 'monthly_allocated_cases'] /\n",
        "    monthly_df.loc[simulated_high_risk_indices, 'state_total_population']\n",
        ")\n",
        "\n",
        "# Label these simulated high-risk state-months as 1\n",
        "monthly_df.loc[simulated_high_risk_indices, 'high_risk_state'] = 1\n",
        "\n",
        "# --- Verify the Distribution ---\n",
        "print(\"Value counts in high_risk_state:\\n\", monthly_df['high_risk_state'].value_counts())\n",
        "print(\"Percentage of high-risk state-months:\",\n",
        "      (monthly_df['high_risk_state'].mean() * 100).round(2), \"%\")"
      ],
      "metadata": {
        "id": "zhXozEo_e8La",
        "colab": {
          "base_uri": "https://localhost:8080/"
        },
        "outputId": "ac9ac059-f7b8-4c13-ed22-659760581078"
      },
      "execution_count": 114,
      "outputs": [
        {
          "output_type": "stream",
          "name": "stdout",
          "text": [
            "Value counts in high_risk_state:\n",
            " high_risk_state\n",
            "0    11491\n",
            "1     1469\n",
            "Name: count, dtype: int64\n",
            "Percentage of high-risk state-months: 11.33 %\n"
          ]
        }
      ]
    },
    {
      "cell_type": "code",
      "source": [
        "monthly_df=monthly_df[monthly_df['year']>2006]\n",
        "monthly_df.tail()"
      ],
      "metadata": {
        "colab": {
          "base_uri": "https://localhost:8080/",
          "height": 399
        },
        "id": "ctYoUKjWecLk",
        "outputId": "f051aa6c-fa23-4fe8-ccd9-d58c1bb2c1d6"
      },
      "execution_count": 115,
      "outputs": [
        {
          "output_type": "execute_result",
          "data": {
            "text/plain": [
              "                name  year  month  pop_density  avg_temperature  \\\n",
              "12955  Daman and Diu  2020      8      364.361        26.618333   \n",
              "12956  Daman and Diu  2020      9      364.361        26.618333   \n",
              "12957  Daman and Diu  2020     10      364.361        26.618333   \n",
              "12958  Daman and Diu  2020     11      364.361        26.618333   \n",
              "12959  Daman and Diu  2020     12      364.361        26.618333   \n",
              "\n",
              "       pig_vaccinated  poultry_loss  pig_vaccination_rate  poultry_loss_rate  \\\n",
              "12955             NaN           NaN                   NaN                NaN   \n",
              "12956             NaN           NaN                   NaN                NaN   \n",
              "12957             NaN           NaN                   NaN                NaN   \n",
              "12958             NaN           NaN                   NaN                NaN   \n",
              "12959             NaN           NaN                   NaN                NaN   \n",
              "\n",
              "       area  total_population  allocated_cases  monthly_temperature  \\\n",
              "12955   112         40808.432       283.323916                26.95   \n",
              "12956   112         40808.432       283.323916                27.42   \n",
              "12957   112         40808.432       283.323916                28.35   \n",
              "12958   112         40808.432       252.710927                26.79   \n",
              "12959   112         40808.432       283.323916                24.12   \n",
              "\n",
              "       monthly_allocated_cases  monthly_case_to_pop_ratio  \\\n",
              "12955                23.610326                   0.000579   \n",
              "12956                23.610326                   0.000579   \n",
              "12957                23.610326                   0.000579   \n",
              "12958                21.059244                   0.000516   \n",
              "12959                23.610326                   0.000579   \n",
              "\n",
              "       state_total_population  high_risk_state  avg_allocated_cases_2009_2010  \n",
              "12955               40808.432                0                     252.710927  \n",
              "12956               40808.432                0                     252.710927  \n",
              "12957               40808.432                0                     252.710927  \n",
              "12958               40808.432                1                     252.710927  \n",
              "12959               40808.432                0                     252.710927  "
            ],
            "text/html": [
              "\n",
              "  <div id=\"df-4a1989d8-1b07-46b6-afdd-43051d4ed0dd\" class=\"colab-df-container\">\n",
              "    <div>\n",
              "<style scoped>\n",
              "    .dataframe tbody tr th:only-of-type {\n",
              "        vertical-align: middle;\n",
              "    }\n",
              "\n",
              "    .dataframe tbody tr th {\n",
              "        vertical-align: top;\n",
              "    }\n",
              "\n",
              "    .dataframe thead th {\n",
              "        text-align: right;\n",
              "    }\n",
              "</style>\n",
              "<table border=\"1\" class=\"dataframe\">\n",
              "  <thead>\n",
              "    <tr style=\"text-align: right;\">\n",
              "      <th></th>\n",
              "      <th>name</th>\n",
              "      <th>year</th>\n",
              "      <th>month</th>\n",
              "      <th>pop_density</th>\n",
              "      <th>avg_temperature</th>\n",
              "      <th>pig_vaccinated</th>\n",
              "      <th>poultry_loss</th>\n",
              "      <th>pig_vaccination_rate</th>\n",
              "      <th>poultry_loss_rate</th>\n",
              "      <th>area</th>\n",
              "      <th>total_population</th>\n",
              "      <th>allocated_cases</th>\n",
              "      <th>monthly_temperature</th>\n",
              "      <th>monthly_allocated_cases</th>\n",
              "      <th>monthly_case_to_pop_ratio</th>\n",
              "      <th>state_total_population</th>\n",
              "      <th>high_risk_state</th>\n",
              "      <th>avg_allocated_cases_2009_2010</th>\n",
              "    </tr>\n",
              "  </thead>\n",
              "  <tbody>\n",
              "    <tr>\n",
              "      <th>12955</th>\n",
              "      <td>Daman and Diu</td>\n",
              "      <td>2020</td>\n",
              "      <td>8</td>\n",
              "      <td>364.361</td>\n",
              "      <td>26.618333</td>\n",
              "      <td>NaN</td>\n",
              "      <td>NaN</td>\n",
              "      <td>NaN</td>\n",
              "      <td>NaN</td>\n",
              "      <td>112</td>\n",
              "      <td>40808.432</td>\n",
              "      <td>283.323916</td>\n",
              "      <td>26.95</td>\n",
              "      <td>23.610326</td>\n",
              "      <td>0.000579</td>\n",
              "      <td>40808.432</td>\n",
              "      <td>0</td>\n",
              "      <td>252.710927</td>\n",
              "    </tr>\n",
              "    <tr>\n",
              "      <th>12956</th>\n",
              "      <td>Daman and Diu</td>\n",
              "      <td>2020</td>\n",
              "      <td>9</td>\n",
              "      <td>364.361</td>\n",
              "      <td>26.618333</td>\n",
              "      <td>NaN</td>\n",
              "      <td>NaN</td>\n",
              "      <td>NaN</td>\n",
              "      <td>NaN</td>\n",
              "      <td>112</td>\n",
              "      <td>40808.432</td>\n",
              "      <td>283.323916</td>\n",
              "      <td>27.42</td>\n",
              "      <td>23.610326</td>\n",
              "      <td>0.000579</td>\n",
              "      <td>40808.432</td>\n",
              "      <td>0</td>\n",
              "      <td>252.710927</td>\n",
              "    </tr>\n",
              "    <tr>\n",
              "      <th>12957</th>\n",
              "      <td>Daman and Diu</td>\n",
              "      <td>2020</td>\n",
              "      <td>10</td>\n",
              "      <td>364.361</td>\n",
              "      <td>26.618333</td>\n",
              "      <td>NaN</td>\n",
              "      <td>NaN</td>\n",
              "      <td>NaN</td>\n",
              "      <td>NaN</td>\n",
              "      <td>112</td>\n",
              "      <td>40808.432</td>\n",
              "      <td>283.323916</td>\n",
              "      <td>28.35</td>\n",
              "      <td>23.610326</td>\n",
              "      <td>0.000579</td>\n",
              "      <td>40808.432</td>\n",
              "      <td>0</td>\n",
              "      <td>252.710927</td>\n",
              "    </tr>\n",
              "    <tr>\n",
              "      <th>12958</th>\n",
              "      <td>Daman and Diu</td>\n",
              "      <td>2020</td>\n",
              "      <td>11</td>\n",
              "      <td>364.361</td>\n",
              "      <td>26.618333</td>\n",
              "      <td>NaN</td>\n",
              "      <td>NaN</td>\n",
              "      <td>NaN</td>\n",
              "      <td>NaN</td>\n",
              "      <td>112</td>\n",
              "      <td>40808.432</td>\n",
              "      <td>252.710927</td>\n",
              "      <td>26.79</td>\n",
              "      <td>21.059244</td>\n",
              "      <td>0.000516</td>\n",
              "      <td>40808.432</td>\n",
              "      <td>1</td>\n",
              "      <td>252.710927</td>\n",
              "    </tr>\n",
              "    <tr>\n",
              "      <th>12959</th>\n",
              "      <td>Daman and Diu</td>\n",
              "      <td>2020</td>\n",
              "      <td>12</td>\n",
              "      <td>364.361</td>\n",
              "      <td>26.618333</td>\n",
              "      <td>NaN</td>\n",
              "      <td>NaN</td>\n",
              "      <td>NaN</td>\n",
              "      <td>NaN</td>\n",
              "      <td>112</td>\n",
              "      <td>40808.432</td>\n",
              "      <td>283.323916</td>\n",
              "      <td>24.12</td>\n",
              "      <td>23.610326</td>\n",
              "      <td>0.000579</td>\n",
              "      <td>40808.432</td>\n",
              "      <td>0</td>\n",
              "      <td>252.710927</td>\n",
              "    </tr>\n",
              "  </tbody>\n",
              "</table>\n",
              "</div>\n",
              "    <div class=\"colab-df-buttons\">\n",
              "\n",
              "  <div class=\"colab-df-container\">\n",
              "    <button class=\"colab-df-convert\" onclick=\"convertToInteractive('df-4a1989d8-1b07-46b6-afdd-43051d4ed0dd')\"\n",
              "            title=\"Convert this dataframe to an interactive table.\"\n",
              "            style=\"display:none;\">\n",
              "\n",
              "  <svg xmlns=\"http://www.w3.org/2000/svg\" height=\"24px\" viewBox=\"0 -960 960 960\">\n",
              "    <path d=\"M120-120v-720h720v720H120Zm60-500h600v-160H180v160Zm220 220h160v-160H400v160Zm0 220h160v-160H400v160ZM180-400h160v-160H180v160Zm440 0h160v-160H620v160ZM180-180h160v-160H180v160Zm440 0h160v-160H620v160Z\"/>\n",
              "  </svg>\n",
              "    </button>\n",
              "\n",
              "  <style>\n",
              "    .colab-df-container {\n",
              "      display:flex;\n",
              "      gap: 12px;\n",
              "    }\n",
              "\n",
              "    .colab-df-convert {\n",
              "      background-color: #E8F0FE;\n",
              "      border: none;\n",
              "      border-radius: 50%;\n",
              "      cursor: pointer;\n",
              "      display: none;\n",
              "      fill: #1967D2;\n",
              "      height: 32px;\n",
              "      padding: 0 0 0 0;\n",
              "      width: 32px;\n",
              "    }\n",
              "\n",
              "    .colab-df-convert:hover {\n",
              "      background-color: #E2EBFA;\n",
              "      box-shadow: 0px 1px 2px rgba(60, 64, 67, 0.3), 0px 1px 3px 1px rgba(60, 64, 67, 0.15);\n",
              "      fill: #174EA6;\n",
              "    }\n",
              "\n",
              "    .colab-df-buttons div {\n",
              "      margin-bottom: 4px;\n",
              "    }\n",
              "\n",
              "    [theme=dark] .colab-df-convert {\n",
              "      background-color: #3B4455;\n",
              "      fill: #D2E3FC;\n",
              "    }\n",
              "\n",
              "    [theme=dark] .colab-df-convert:hover {\n",
              "      background-color: #434B5C;\n",
              "      box-shadow: 0px 1px 3px 1px rgba(0, 0, 0, 0.15);\n",
              "      filter: drop-shadow(0px 1px 2px rgba(0, 0, 0, 0.3));\n",
              "      fill: #FFFFFF;\n",
              "    }\n",
              "  </style>\n",
              "\n",
              "    <script>\n",
              "      const buttonEl =\n",
              "        document.querySelector('#df-4a1989d8-1b07-46b6-afdd-43051d4ed0dd button.colab-df-convert');\n",
              "      buttonEl.style.display =\n",
              "        google.colab.kernel.accessAllowed ? 'block' : 'none';\n",
              "\n",
              "      async function convertToInteractive(key) {\n",
              "        const element = document.querySelector('#df-4a1989d8-1b07-46b6-afdd-43051d4ed0dd');\n",
              "        const dataTable =\n",
              "          await google.colab.kernel.invokeFunction('convertToInteractive',\n",
              "                                                    [key], {});\n",
              "        if (!dataTable) return;\n",
              "\n",
              "        const docLinkHtml = 'Like what you see? Visit the ' +\n",
              "          '<a target=\"_blank\" href=https://colab.research.google.com/notebooks/data_table.ipynb>data table notebook</a>'\n",
              "          + ' to learn more about interactive tables.';\n",
              "        element.innerHTML = '';\n",
              "        dataTable['output_type'] = 'display_data';\n",
              "        await google.colab.output.renderOutput(dataTable, element);\n",
              "        const docLink = document.createElement('div');\n",
              "        docLink.innerHTML = docLinkHtml;\n",
              "        element.appendChild(docLink);\n",
              "      }\n",
              "    </script>\n",
              "  </div>\n",
              "\n",
              "\n",
              "<div id=\"df-4345c172-6637-46a2-b0a5-e9f0072389b7\">\n",
              "  <button class=\"colab-df-quickchart\" onclick=\"quickchart('df-4345c172-6637-46a2-b0a5-e9f0072389b7')\"\n",
              "            title=\"Suggest charts\"\n",
              "            style=\"display:none;\">\n",
              "\n",
              "<svg xmlns=\"http://www.w3.org/2000/svg\" height=\"24px\"viewBox=\"0 0 24 24\"\n",
              "     width=\"24px\">\n",
              "    <g>\n",
              "        <path d=\"M19 3H5c-1.1 0-2 .9-2 2v14c0 1.1.9 2 2 2h14c1.1 0 2-.9 2-2V5c0-1.1-.9-2-2-2zM9 17H7v-7h2v7zm4 0h-2V7h2v10zm4 0h-2v-4h2v4z\"/>\n",
              "    </g>\n",
              "</svg>\n",
              "  </button>\n",
              "\n",
              "<style>\n",
              "  .colab-df-quickchart {\n",
              "      --bg-color: #E8F0FE;\n",
              "      --fill-color: #1967D2;\n",
              "      --hover-bg-color: #E2EBFA;\n",
              "      --hover-fill-color: #174EA6;\n",
              "      --disabled-fill-color: #AAA;\n",
              "      --disabled-bg-color: #DDD;\n",
              "  }\n",
              "\n",
              "  [theme=dark] .colab-df-quickchart {\n",
              "      --bg-color: #3B4455;\n",
              "      --fill-color: #D2E3FC;\n",
              "      --hover-bg-color: #434B5C;\n",
              "      --hover-fill-color: #FFFFFF;\n",
              "      --disabled-bg-color: #3B4455;\n",
              "      --disabled-fill-color: #666;\n",
              "  }\n",
              "\n",
              "  .colab-df-quickchart {\n",
              "    background-color: var(--bg-color);\n",
              "    border: none;\n",
              "    border-radius: 50%;\n",
              "    cursor: pointer;\n",
              "    display: none;\n",
              "    fill: var(--fill-color);\n",
              "    height: 32px;\n",
              "    padding: 0;\n",
              "    width: 32px;\n",
              "  }\n",
              "\n",
              "  .colab-df-quickchart:hover {\n",
              "    background-color: var(--hover-bg-color);\n",
              "    box-shadow: 0 1px 2px rgba(60, 64, 67, 0.3), 0 1px 3px 1px rgba(60, 64, 67, 0.15);\n",
              "    fill: var(--button-hover-fill-color);\n",
              "  }\n",
              "\n",
              "  .colab-df-quickchart-complete:disabled,\n",
              "  .colab-df-quickchart-complete:disabled:hover {\n",
              "    background-color: var(--disabled-bg-color);\n",
              "    fill: var(--disabled-fill-color);\n",
              "    box-shadow: none;\n",
              "  }\n",
              "\n",
              "  .colab-df-spinner {\n",
              "    border: 2px solid var(--fill-color);\n",
              "    border-color: transparent;\n",
              "    border-bottom-color: var(--fill-color);\n",
              "    animation:\n",
              "      spin 1s steps(1) infinite;\n",
              "  }\n",
              "\n",
              "  @keyframes spin {\n",
              "    0% {\n",
              "      border-color: transparent;\n",
              "      border-bottom-color: var(--fill-color);\n",
              "      border-left-color: var(--fill-color);\n",
              "    }\n",
              "    20% {\n",
              "      border-color: transparent;\n",
              "      border-left-color: var(--fill-color);\n",
              "      border-top-color: var(--fill-color);\n",
              "    }\n",
              "    30% {\n",
              "      border-color: transparent;\n",
              "      border-left-color: var(--fill-color);\n",
              "      border-top-color: var(--fill-color);\n",
              "      border-right-color: var(--fill-color);\n",
              "    }\n",
              "    40% {\n",
              "      border-color: transparent;\n",
              "      border-right-color: var(--fill-color);\n",
              "      border-top-color: var(--fill-color);\n",
              "    }\n",
              "    60% {\n",
              "      border-color: transparent;\n",
              "      border-right-color: var(--fill-color);\n",
              "    }\n",
              "    80% {\n",
              "      border-color: transparent;\n",
              "      border-right-color: var(--fill-color);\n",
              "      border-bottom-color: var(--fill-color);\n",
              "    }\n",
              "    90% {\n",
              "      border-color: transparent;\n",
              "      border-bottom-color: var(--fill-color);\n",
              "    }\n",
              "  }\n",
              "</style>\n",
              "\n",
              "  <script>\n",
              "    async function quickchart(key) {\n",
              "      const quickchartButtonEl =\n",
              "        document.querySelector('#' + key + ' button');\n",
              "      quickchartButtonEl.disabled = true;  // To prevent multiple clicks.\n",
              "      quickchartButtonEl.classList.add('colab-df-spinner');\n",
              "      try {\n",
              "        const charts = await google.colab.kernel.invokeFunction(\n",
              "            'suggestCharts', [key], {});\n",
              "      } catch (error) {\n",
              "        console.error('Error during call to suggestCharts:', error);\n",
              "      }\n",
              "      quickchartButtonEl.classList.remove('colab-df-spinner');\n",
              "      quickchartButtonEl.classList.add('colab-df-quickchart-complete');\n",
              "    }\n",
              "    (() => {\n",
              "      let quickchartButtonEl =\n",
              "        document.querySelector('#df-4345c172-6637-46a2-b0a5-e9f0072389b7 button');\n",
              "      quickchartButtonEl.style.display =\n",
              "        google.colab.kernel.accessAllowed ? 'block' : 'none';\n",
              "    })();\n",
              "  </script>\n",
              "</div>\n",
              "\n",
              "    </div>\n",
              "  </div>\n"
            ],
            "application/vnd.google.colaboratory.intrinsic+json": {
              "type": "dataframe",
              "summary": "{\n  \"name\": \"monthly_df\",\n  \"rows\": 5,\n  \"fields\": [\n    {\n      \"column\": \"name\",\n      \"properties\": {\n        \"dtype\": \"category\",\n        \"num_unique_values\": 1,\n        \"samples\": [\n          \"Daman and Diu\"\n        ],\n        \"semantic_type\": \"\",\n        \"description\": \"\"\n      }\n    },\n    {\n      \"column\": \"year\",\n      \"properties\": {\n        \"dtype\": \"number\",\n        \"std\": 0,\n        \"min\": 2020,\n        \"max\": 2020,\n        \"num_unique_values\": 1,\n        \"samples\": [\n          2020\n        ],\n        \"semantic_type\": \"\",\n        \"description\": \"\"\n      }\n    },\n    {\n      \"column\": \"month\",\n      \"properties\": {\n        \"dtype\": \"number\",\n        \"std\": 1,\n        \"min\": 8,\n        \"max\": 12,\n        \"num_unique_values\": 5,\n        \"samples\": [\n          9\n        ],\n        \"semantic_type\": \"\",\n        \"description\": \"\"\n      }\n    },\n    {\n      \"column\": \"pop_density\",\n      \"properties\": {\n        \"dtype\": \"number\",\n        \"std\": 0.0,\n        \"min\": 364.361,\n        \"max\": 364.361,\n        \"num_unique_values\": 1,\n        \"samples\": [\n          364.361\n        ],\n        \"semantic_type\": \"\",\n        \"description\": \"\"\n      }\n    },\n    {\n      \"column\": \"avg_temperature\",\n      \"properties\": {\n        \"dtype\": \"number\",\n        \"std\": 3.972054645195637e-15,\n        \"min\": 26.618333333333336,\n        \"max\": 26.618333333333336,\n        \"num_unique_values\": 1,\n        \"samples\": [\n          26.618333333333336\n        ],\n        \"semantic_type\": \"\",\n        \"description\": \"\"\n      }\n    },\n    {\n      \"column\": \"pig_vaccinated\",\n      \"properties\": {\n        \"dtype\": \"number\",\n        \"std\": null,\n        \"min\": null,\n        \"max\": null,\n        \"num_unique_values\": 0,\n        \"samples\": [],\n        \"semantic_type\": \"\",\n        \"description\": \"\"\n      }\n    },\n    {\n      \"column\": \"poultry_loss\",\n      \"properties\": {\n        \"dtype\": \"number\",\n        \"std\": null,\n        \"min\": null,\n        \"max\": null,\n        \"num_unique_values\": 0,\n        \"samples\": [],\n        \"semantic_type\": \"\",\n        \"description\": \"\"\n      }\n    },\n    {\n      \"column\": \"pig_vaccination_rate\",\n      \"properties\": {\n        \"dtype\": \"number\",\n        \"std\": null,\n        \"min\": null,\n        \"max\": null,\n        \"num_unique_values\": 0,\n        \"samples\": [],\n        \"semantic_type\": \"\",\n        \"description\": \"\"\n      }\n    },\n    {\n      \"column\": \"poultry_loss_rate\",\n      \"properties\": {\n        \"dtype\": \"number\",\n        \"std\": null,\n        \"min\": null,\n        \"max\": null,\n        \"num_unique_values\": 0,\n        \"samples\": [],\n        \"semantic_type\": \"\",\n        \"description\": \"\"\n      }\n    },\n    {\n      \"column\": \"area\",\n      \"properties\": {\n        \"dtype\": \"number\",\n        \"std\": 0,\n        \"min\": 112,\n        \"max\": 112,\n        \"num_unique_values\": 1,\n        \"samples\": [],\n        \"semantic_type\": \"\",\n        \"description\": \"\"\n      }\n    },\n    {\n      \"column\": \"total_population\",\n      \"properties\": {\n        \"dtype\": \"number\",\n        \"std\": 0.0,\n        \"min\": 40808.432,\n        \"max\": 40808.432,\n        \"num_unique_values\": 1,\n        \"samples\": [],\n        \"semantic_type\": \"\",\n        \"description\": \"\"\n      }\n    },\n    {\n      \"column\": \"allocated_cases\",\n      \"properties\": {\n        \"dtype\": \"number\",\n        \"std\": 13.690544819169514,\n        \"min\": 252.71092679791278,\n        \"max\": 283.3239156625834,\n        \"num_unique_values\": 2,\n        \"samples\": [],\n        \"semantic_type\": \"\",\n        \"description\": \"\"\n      }\n    },\n    {\n      \"column\": \"monthly_temperature\",\n      \"properties\": {\n        \"dtype\": \"number\",\n        \"std\": 1.5783313973940962,\n        \"min\": 24.12,\n        \"max\": 28.35,\n        \"num_unique_values\": 5,\n        \"samples\": [],\n        \"semantic_type\": \"\",\n        \"description\": \"\"\n      }\n    },\n    {\n      \"column\": \"monthly_allocated_cases\",\n      \"properties\": {\n        \"dtype\": \"number\",\n        \"std\": 1.1408787349307927,\n        \"min\": 21.059243899826065,\n        \"max\": 23.61032630521528,\n        \"num_unique_values\": 2,\n        \"samples\": [],\n        \"semantic_type\": \"\",\n        \"description\": \"\"\n      }\n    },\n    {\n      \"column\": \"monthly_case_to_pop_ratio\",\n      \"properties\": {\n        \"dtype\": \"number\",\n        \"std\": 2.7956936324600608e-05,\n        \"min\": 0.0005160512881216819,\n        \"max\": 0.000578564898186122,\n        \"num_unique_values\": 2,\n        \"samples\": [],\n        \"semantic_type\": \"\",\n        \"description\": \"\"\n      }\n    },\n    {\n      \"column\": \"state_total_population\",\n      \"properties\": {\n        \"dtype\": \"number\",\n        \"std\": 0.0,\n        \"min\": 40808.432,\n        \"max\": 40808.432,\n        \"num_unique_values\": 1,\n        \"samples\": [],\n        \"semantic_type\": \"\",\n        \"description\": \"\"\n      }\n    },\n    {\n      \"column\": \"high_risk_state\",\n      \"properties\": {\n        \"dtype\": \"number\",\n        \"std\": 0,\n        \"min\": 0,\n        \"max\": 1,\n        \"num_unique_values\": 2,\n        \"samples\": [],\n        \"semantic_type\": \"\",\n        \"description\": \"\"\n      }\n    },\n    {\n      \"column\": \"avg_allocated_cases_2009_2010\",\n      \"properties\": {\n        \"dtype\": \"number\",\n        \"std\": 0.0,\n        \"min\": 252.71092679791278,\n        \"max\": 252.71092679791278,\n        \"num_unique_values\": 1,\n        \"samples\": [],\n        \"semantic_type\": \"\",\n        \"description\": \"\"\n      }\n    }\n  ]\n}"
            }
          },
          "metadata": {},
          "execution_count": 115
        }
      ]
    },
    {
      "cell_type": "code",
      "source": [
        "monthly_df.columns"
      ],
      "metadata": {
        "colab": {
          "base_uri": "https://localhost:8080/"
        },
        "id": "uSMGvbOjvLee",
        "outputId": "c4020aad-9544-415d-c666-feee410518a2"
      },
      "execution_count": 151,
      "outputs": [
        {
          "output_type": "execute_result",
          "data": {
            "text/plain": [
              "Index(['name', 'year', 'month', 'pop_density', 'avg_temperature',\n",
              "       'pig_vaccinated', 'poultry_loss', 'pig_vaccination_rate',\n",
              "       'poultry_loss_rate', 'area', 'total_population', 'allocated_cases',\n",
              "       'monthly_temperature', 'monthly_allocated_cases',\n",
              "       'monthly_case_to_pop_ratio', 'state_total_population',\n",
              "       'high_risk_state', 'avg_allocated_cases_2009_2010'],\n",
              "      dtype='object')"
            ]
          },
          "metadata": {},
          "execution_count": 151
        }
      ]
    },
    {
      "cell_type": "code",
      "source": [
        "monthly_df.high_risk_state.value_counts()"
      ],
      "metadata": {
        "id": "CyoXgnXlY6y1",
        "colab": {
          "base_uri": "https://localhost:8080/",
          "height": 178
        },
        "outputId": "3794dc70-b19f-422f-c821-3e6e4a7d9fa8"
      },
      "execution_count": 116,
      "outputs": [
        {
          "output_type": "execute_result",
          "data": {
            "text/plain": [
              "high_risk_state\n",
              "0    4923\n",
              "1    1125\n",
              "Name: count, dtype: int64"
            ],
            "text/html": [
              "<div>\n",
              "<style scoped>\n",
              "    .dataframe tbody tr th:only-of-type {\n",
              "        vertical-align: middle;\n",
              "    }\n",
              "\n",
              "    .dataframe tbody tr th {\n",
              "        vertical-align: top;\n",
              "    }\n",
              "\n",
              "    .dataframe thead th {\n",
              "        text-align: right;\n",
              "    }\n",
              "</style>\n",
              "<table border=\"1\" class=\"dataframe\">\n",
              "  <thead>\n",
              "    <tr style=\"text-align: right;\">\n",
              "      <th></th>\n",
              "      <th>count</th>\n",
              "    </tr>\n",
              "    <tr>\n",
              "      <th>high_risk_state</th>\n",
              "      <th></th>\n",
              "    </tr>\n",
              "  </thead>\n",
              "  <tbody>\n",
              "    <tr>\n",
              "      <th>0</th>\n",
              "      <td>4923</td>\n",
              "    </tr>\n",
              "    <tr>\n",
              "      <th>1</th>\n",
              "      <td>1125</td>\n",
              "    </tr>\n",
              "  </tbody>\n",
              "</table>\n",
              "</div><br><label><b>dtype:</b> int64</label>"
            ]
          },
          "metadata": {},
          "execution_count": 116
        }
      ]
    },
    {
      "cell_type": "markdown",
      "source": [
        "# Model Training"
      ],
      "metadata": {
        "id": "7lmNvz4htTk6"
      }
    },
    {
      "cell_type": "code",
      "source": [
        "# Select relevant columns for training, including 'name'\n",
        "final_columns = [\n",
        "    'name', 'monthly_temperature', 'pig_vaccinated', 'area',\n",
        "    'state_total_population', 'monthly_case_to_pop_ratio', 'high_risk_state'\n",
        "]\n",
        "training_df = monthly_df[final_columns].copy()\n",
        "\n",
        "# Feature Engineering: Add population density\n",
        "training_df['pop_density'] = training_df['state_total_population'] / training_df['area']\n",
        "\n",
        "# Define features and target\n",
        "features = [\n",
        "    'monthly_temperature', 'pig_vaccinated', 'area',\n",
        "    'state_total_population', 'monthly_case_to_pop_ratio', 'pop_density'\n",
        "]\n",
        "X = training_df[features + ['name']]  # Include 'name' for encoding\n",
        "y = training_df['high_risk_state']\n",
        "\n",
        "# One-hot encode the 'name' column\n",
        "X_encoded = pd.get_dummies(X, columns=['name'], drop_first=True)\n",
        "\n",
        "# Handle missing values with mean imputation for numeric features\n",
        "imputer = SimpleImputer(strategy='median')\n",
        "X_numeric = pd.DataFrame(imputer.fit_transform(X_encoded), columns=X_encoded.columns)"
      ],
      "metadata": {
        "id": "iZOkGcS1pGpV"
      },
      "execution_count": 153,
      "outputs": []
    },
    {
      "cell_type": "code",
      "source": [
        "# Split the data into training and testing sets\n",
        "X_train, X_test, y_train, y_test = train_test_split(\n",
        "    X_numeric, y, test_size=0.2, random_state=42, stratify=y\n",
        ")\n",
        "\n",
        "# Apply SMOTE to balance the training data\n",
        "smote = SMOTE(random_state=42)\n",
        "X_train_smote, y_train_smote = smote.fit_resample(X_train, y_train)\n",
        "\n",
        "# Calculate scale_pos_weight for XGBoost\n",
        "scale_pos_weight = (y_train == 0).sum() / (y_train == 1).sum()\n",
        "\n",
        "# Define XGBoost classifier\n",
        "xgb_model = xgb.XGBClassifier(\n",
        "    scale_pos_weight=scale_pos_weight,\n",
        "    use_label_encoder=False,\n",
        "    eval_metric='logloss',\n",
        "    random_state=42\n",
        ")\n",
        "\n",
        "# Hyperparameter tuning with GridSearchCV to optimize F1-score\n",
        "param_grid = {\n",
        "    'max_depth': [3, 5, 7],\n",
        "    'learning_rate': [0.01, 0.1],\n",
        "    'n_estimators': [100, 200],\n",
        "    'subsample': [0.8, 1.0],\n",
        "    'colsample_bytree': [0.8, 1.0]\n",
        "}\n",
        "grid_search = GridSearchCV(\n",
        "    estimator=xgb_model,\n",
        "    param_grid=param_grid,\n",
        "    scoring='f1_macro',\n",
        "    cv=5,\n",
        "    n_jobs=-1,\n",
        "    verbose=1\n",
        ")\n",
        "grid_search.fit(X_train_smote, y_train_smote)\n",
        "\n",
        "# Best model from grid search\n",
        "best_model = grid_search.best_estimator_\n",
        "print(\"\\nBest Parameters:\", grid_search.best_params_)"
      ],
      "metadata": {
        "id": "PGh21dcvtir8",
        "colab": {
          "base_uri": "https://localhost:8080/"
        },
        "outputId": "2c16f139-9442-4088-e2c1-e070c03d6dc8"
      },
      "execution_count": 157,
      "outputs": [
        {
          "output_type": "stream",
          "name": "stdout",
          "text": [
            "Fitting 5 folds for each of 48 candidates, totalling 240 fits\n"
          ]
        },
        {
          "output_type": "stream",
          "name": "stderr",
          "text": [
            "/usr/local/lib/python3.11/dist-packages/xgboost/core.py:158: UserWarning: [19:06:42] WARNING: /workspace/src/learner.cc:740: \n",
            "Parameters: { \"use_label_encoder\" } are not used.\n",
            "\n",
            "  warnings.warn(smsg, UserWarning)\n"
          ]
        },
        {
          "output_type": "stream",
          "name": "stdout",
          "text": [
            "\n",
            "Best Parameters: {'colsample_bytree': 1.0, 'learning_rate': 0.1, 'max_depth': 7, 'n_estimators': 200, 'subsample': 0.8}\n"
          ]
        }
      ]
    },
    {
      "cell_type": "markdown",
      "source": [
        "#Evaluating Model"
      ],
      "metadata": {
        "id": "lTEzhEe65woN"
      }
    },
    {
      "cell_type": "code",
      "source": [
        "from sklearn.metrics import classification_report, roc_auc_score, confusion_matrix\n",
        "import matplotlib.pyplot as plt\n",
        "import pickle"
      ],
      "metadata": {
        "id": "ffGhyPfgvzn2"
      },
      "execution_count": 158,
      "outputs": []
    },
    {
      "cell_type": "code",
      "source": [
        "# Predict on the test set\n",
        "y_pred = best_model.predict(X_test)\n",
        "y_pred_proba = best_model.predict_proba(X_test)[:, 1]\n",
        "\n",
        "# Evaluate with default threshold\n",
        "print(\"\\nClassification Report (Default Threshold):\")\n",
        "print(classification_report(y_test, y_pred))\n",
        "print(\"AUC-ROC:\", roc_auc_score(y_test, y_pred_proba))\n",
        "print(\"Confusion Matrix (Default Threshold):\")\n",
        "print(confusion_matrix(y_test, y_pred))\n",
        "\n",
        "# Feature Importance Analysis\n",
        "feature_importance = pd.DataFrame({\n",
        "    'Feature': X_numeric.columns,\n",
        "    'Importance': best_model.feature_importances_\n",
        "}).sort_values(by='Importance', ascending=False)\n",
        "\n",
        "print(\"\\nFeature Importance:\")\n",
        "print(feature_importance)\n",
        "\n",
        "# Plot feature importance\n",
        "plt.figure(figsize=(10, 10))\n",
        "plt.barh(feature_importance['Feature'], feature_importance['Importance'], color='skyblue')\n",
        "plt.xlabel('Importance')\n",
        "plt.title('Feature Importance from XGBoost Model')\n",
        "plt.gca().invert_yaxis()\n",
        "plt.show()"
      ],
      "metadata": {
        "colab": {
          "base_uri": "https://localhost:8080/",
          "height": 1000
        },
        "id": "8EIhLD9Oy8zm",
        "outputId": "821d89cb-b046-473a-c865-a6edcab15fe3"
      },
      "execution_count": 159,
      "outputs": [
        {
          "output_type": "stream",
          "name": "stdout",
          "text": [
            "\n",
            "Classification Report (Default Threshold):\n",
            "              precision    recall  f1-score   support\n",
            "\n",
            "           0       0.99      0.81      0.89       985\n",
            "           1       0.54      0.98      0.69       225\n",
            "\n",
            "    accuracy                           0.84      1210\n",
            "   macro avg       0.77      0.89      0.79      1210\n",
            "weighted avg       0.91      0.84      0.85      1210\n",
            "\n",
            "AUC-ROC: 0.8681489001692048\n",
            "Confusion Matrix (Default Threshold):\n",
            "[[794 191]\n",
            " [  4 221]]\n",
            "\n",
            "Feature Importance:\n",
            "                        Feature  Importance\n",
            "39             name_Uttarakhand    0.142082\n",
            "6           name_Andhra Pradesh    0.079767\n",
            "30                  name_Odisha    0.051203\n",
            "24          name_Madhya Pradesh    0.043817\n",
            "9                    name_Bihar    0.041374\n",
            "4     monthly_case_to_pop_ratio    0.039839\n",
            "15                     name_Goa    0.038727\n",
            "35              name_Tamil Nadu    0.037278\n",
            "31              name_Puducherry    0.036194\n",
            "3        state_total_population    0.035931\n",
            "5                   pop_density    0.033964\n",
            "29                name_Nagaland    0.032112\n",
            "34                  name_Sikkim    0.031729\n",
            "22                  name_Kerala    0.030667\n",
            "40             name_West Bengal    0.029178\n",
            "2                          area    0.026374\n",
            "19       name_Jammu and Kashmir    0.024751\n",
            "8                    name_Assam    0.023527\n",
            "36               name_Telangana    0.021367\n",
            "21               name_Karnataka    0.020744\n",
            "1                pig_vaccinated    0.019641\n",
            "28                 name_Mizoram    0.019165\n",
            "17                 name_Haryana    0.017281\n",
            "14                   name_Delhi    0.015812\n",
            "20               name_Jharkhand    0.015808\n",
            "16                 name_Gujarat    0.015368\n",
            "18        name_Himachal Pradesh    0.013295\n",
            "37                 name_Tripura    0.010498\n",
            "33               name_Rajasthan    0.009160\n",
            "32                  name_Punjab    0.007859\n",
            "13           name_Daman and Diu    0.006929\n",
            "11            name_Chhattisgarh    0.006761\n",
            "12  name_Dadra and Nagar Haveli    0.006551\n",
            "27               name_Meghalaya    0.005934\n",
            "23             name_Lakshadweep    0.003712\n",
            "0           monthly_temperature    0.003261\n",
            "7        name_Arunachal Pradesh    0.002337\n",
            "10              name_Chandigarh    0.000000\n",
            "25             name_Maharashtra    0.000000\n",
            "26                 name_Manipur    0.000000\n",
            "38           name_Uttar Pradesh    0.000000\n"
          ]
        },
        {
          "output_type": "display_data",
          "data": {
            "text/plain": [
              "<Figure size 1000x1000 with 1 Axes>"
            ],
            "image/png": "[encoded data removed]"
          },
          "metadata": {}
        }
      ]
    },
    {
      "cell_type": "code",
      "source": [
        "#saving training_df as csv\n",
        "with open('training_df.csv', 'w') as f:\n",
        "    training_df.to_csv(f, index=False)"
      ],
      "metadata": {
        "id": "R0TSD1X676No"
      },
      "execution_count": 160,
      "outputs": []
    },
    {
      "cell_type": "code",
      "source": [
        "with open('xgboost high risk model', 'wb') as file:\n",
        "    pickle.dump(best_model, file)\n",
        "print(f\"\\nModel saved successfully\")"
      ],
      "metadata": {
        "id": "lye51Hmxz2-m",
        "colab": {
          "base_uri": "https://localhost:8080/"
        },
        "outputId": "5053d089-6dca-48c6-e5a2-77af7fe920ad"
      },
      "execution_count": 161,
      "outputs": [
        {
          "output_type": "stream",
          "name": "stdout",
          "text": [
            "\n",
            "Model saved successfully\n"
          ]
        }
      ]
    },
    {
      "cell_type": "code",
      "source": [],
      "metadata": {
        "id": "eE09SXO4rPvs"
      },
      "execution_count": null,
      "outputs": []
    }
  ]
}